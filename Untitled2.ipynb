{
  "nbformat": 4,
  "nbformat_minor": 0,
  "metadata": {
    "colab": {
      "provenance": [],
      "authorship_tag": "ABX9TyND/rekbWoU3/Ji6iguVfyx",
      "include_colab_link": true
    },
    "kernelspec": {
      "name": "python3",
      "display_name": "Python 3"
    },
    "language_info": {
      "name": "python"
    }
  },
  "cells": [
    {
      "cell_type": "markdown",
      "metadata": {
        "id": "view-in-github",
        "colab_type": "text"
      },
      "source": [
        "<a href=\"https://colab.research.google.com/github/JonZmei/-project_01/blob/%D0%92%D1%81%D0%B5-%D0%B7%D0%B0%D0%B4%D0%B0%D0%BD%D0%B8%D1%8F-%D0%B8-%D1%84%D0%B0%D0%B9%D0%BB%D1%8B/Untitled2.ipynb\" target=\"_parent\"><img src=\"https://colab.research.google.com/assets/colab-badge.svg\" alt=\"Open In Colab\"/></a>"
      ]
    },
    {
      "cell_type": "code",
      "execution_count": 1,
      "metadata": {
        "colab": {
          "base_uri": "https://localhost:8080/",
          "height": 131
        },
        "id": "1uuaxTx4_Y_2",
        "outputId": "b7eaa6f5-9a30-4f8d-9d71-1331e401e660"
      },
      "outputs": [
        {
          "output_type": "error",
          "ename": "SyntaxError",
          "evalue": "ignored",
          "traceback": [
            "\u001b[0;36m  File \u001b[0;32m\"<ipython-input-1-ebb7afac3679>\"\u001b[0;36m, line \u001b[0;32m1\u001b[0m\n\u001b[0;31m    CREATE TABLE Students (\u001b[0m\n\u001b[0m           ^\u001b[0m\n\u001b[0;31mSyntaxError\u001b[0m\u001b[0;31m:\u001b[0m invalid syntax\n"
          ]
        }
      ],
      "source": [
        "#Для создания таблицы Students в базе данных teacher с заданными полями можно воспользоваться следующим SQL-запросом:\n",
        "\n",
        "CREATE TABLE Students (\n",
        "    Student_Id INTEGER,\n",
        "    Student_Name TEXT,\n",
        "    School_Id INTEGER PRIMARY KEY\n",
        ");\n",
        "#Для наполнения таблицы данными можно использовать следующий SQL-запрос:\n",
        "INSERT INTO Students (Student_Id, Student_Name, School_Id) VALUES \n",
        "(201, 'Иван', 1),\n",
        "(202, 'Петр', 2),\n",
        "(203, 'Анастасия', 3),\n",
        "(204, 'Игорь', 4);\n",
        "\n",
        "#Чтобы получить информацию о студенте и его школе по заданному ID студента, можно использовать следующий SQL-запро\n",
        "SELECT s.Student_Id, s.Student_Name, s.School_Id, sc.School_Name\n",
        "FROM Students s\n",
        "JOIN Schools sc ON s.School_Id = sc.School_Id\n",
        "WHERE s.Student_Id = <заданный ID студента>;\n",
        "#В этом запросе мы выбираем из таблицы Students поля Student_Id, Student_Name и School_Id, а также из таблицы Schools поле School_Name. Затем мы соединяем таблицы Students и Schools по полю School_Id, чтобы получить название школы, и ограничиваем результаты только теми, где значение Student_Id равно заданному ID студента.\n",
        "\n",
        "#К<заданный ID студента>, зависит от конкретной ситуации. Например, если мы хотим получить информацию о студенте с ID 202, то запрос будет выглядеть следующим образом:\n",
        "SELECT s.Student_Id, s.Student_Name, s.School_Id, sc.School_Name\n",
        "FROM Students s\n",
        "JOIN Schools sc ON s.School_Id = sc.School_Id\n",
        "WHERE s.Student_Id = 202;\n",
        "\n",
        "#Аналогично, чтобы получить информацию о студенте с другим ID, нужно просто подставить нужное значение вместо 202 в выражении s.Student_Id = 202.\n",
        "\n",
        "\n",
        "\n"
      ]
    }
  ]
}