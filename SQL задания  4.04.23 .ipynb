{
  "nbformat": 4,
  "nbformat_minor": 0,
  "metadata": {
    "colab": {
      "provenance": [],
      "toc_visible": true,
      "authorship_tag": "ABX9TyNZIzKPivfWBvp135ZlnUDK",
      "include_colab_link": true
    },
    "kernelspec": {
      "name": "python3",
      "display_name": "Python 3"
    },
    "language_info": {
      "name": "python"
    }
  },
  "cells": [
    {
      "cell_type": "markdown",
      "metadata": {
        "id": "view-in-github",
        "colab_type": "text"
      },
      "source": [
        "<a href=\"https://colab.research.google.com/github/JonZmei/-project_01/blob/%D0%92%D1%81%D0%B5-%D0%B7%D0%B0%D0%B4%D0%B0%D0%BD%D0%B8%D1%8F-%D0%B8-%D1%84%D0%B0%D0%B9%D0%BB%D1%8B/SQL%20%D0%B7%D0%B0%D0%B4%D0%B0%D0%BD%D0%B8%D1%8F%20%204.04.23%20.ipynb\" target=\"_parent\"><img src=\"https://colab.research.google.com/assets/colab-badge.svg\" alt=\"Open In Colab\"/></a>"
      ]
    },
    {
      "cell_type": "code",
      "source": [
        "CREATE TABLE School (\n",
        "School_Id INTEGER NOT PRIMARY KEY,\n",
        "School_Name TEXT NOT NULL,\n",
        "Place_Count INTEGER NOT\n",
        ");"
      ],
      "metadata": {
        "colab": {
          "base_uri": "https://localhost:8080/",
          "height": 131
        },
        "id": "6cOnHtiWK_6b",
        "outputId": "5ca46cf3-4a90-42ee-eecf-a3186c8b537c"
      },
      "execution_count": null,
      "outputs": [
        {
          "output_type": "error",
          "ename": "SyntaxError",
          "evalue": "ignored",
          "traceback": [
            "\u001b[0;36m  File \u001b[0;32m\"<ipython-input-30-d3c9d8423cfd>\"\u001b[0;36m, line \u001b[0;32m1\u001b[0m\n\u001b[0;31m    CREATE TABLE School (\u001b[0m\n\u001b[0m           ^\u001b[0m\n\u001b[0;31mSyntaxError\u001b[0m\u001b[0;31m:\u001b[0m invalid syntax\n"
          ]
        }
      ]
    },
    {
      "cell_type": "code",
      "source": [
        "import sqlite3\n",
        "connection = sqlite3.connect('teatchers.db')\n",
        "cursor = connection.cursor()\n",
        "query = \"\"\"INSERT INTO School (School_Id , School_Name , Place_Count )\n",
        "VALUES \n",
        "('1', 'Протон', 200),\n",
        "('2', 'Преспектива', 300),\n",
        "('3', 'Спектр', 400),\n",
        "('4', 'Содружество', 500);\n",
        "\"\"\""
      ],
      "metadata": {
        "id": "6Jjoab5OIKVT"
      },
      "execution_count": null,
      "outputs": []
    },
    {
      "cell_type": "code",
      "execution_count": null,
      "metadata": {
        "id": "9tdeNT-ccuwt"
      },
      "outputs": [],
      "source": [
        "from sqlite3.dbapi2 import connect\n",
        "# Создание БД\n",
        "import sqlite3\n",
        "connection = sqlite3.connect('teatchers.db')\n",
        "cursor = connection.cursor()\n",
        "query = \"\"\"INSERT INTO School (School_Id , School_Name , Place_Count )\n",
        "VALUES \n",
        "('1', 'Протон', 200),\n",
        "('2', 'Преспектива', 300),\n",
        "('3', 'Спектр', 400),\n",
        "('4', 'Содружество', 500);\n",
        "\"\"\"\n",
        "cursor.execute(query)\n",
        "connection.commit()\n",
        "connection.close()"
      ]
    },
    {
      "cell_type": "code",
      "source": [
        "# Создание БД\n",
        "import sqlite3\n",
        "connection = sqlite3.connect('teatchers.db')\n",
        "cursor = connection.cursor()\n",
        "query = \"\"\"INSERT INTO Teatcher (Teatcher_Id , Teatcher_Name , School_Id, Joining_Date , Speciality , Salary, Experience)\n",
        "VALUES\n",
        "('101', 'Галина', '1', '2021 02 10', ' Физик ', '40000', NULL),\n",
        "('102', 'Мария', '1', '2018 07 23', ' Химик ', '20000', NULL),\n",
        "('103', 'Ольга', '2', '2022 05 19', 'Информатик', '25000', NULL),\n",
        "('104', 'Полина', '2', '2017 12 28', 'Физик ', '28000', NULL),\n",
        "('105', 'Лидия', '3', '2015 06 04', 'Информатик', '42000', NULL),\n",
        "('106', 'Анастасия', '3', '2019 09 11', 'Учитель трудов', '30000', NULL),\n",
        "('107', 'Ирина', '4', '2020 08 21', 'Информатик', '32000', NULL),\n",
        "('108', 'Виктория', '4', '2017 10 17', 'Географ', '30000', NULL);\n",
        "\"\"\"\n",
        "cursor.execute(query)\n",
        "connection.commit()\n",
        "connection.close()\n",
        "\n",
        "# Задача 2. Подключиться к БД и вывести ее версию\n"
      ],
      "metadata": {
        "id": "La5SmzOsKq8k"
      },
      "execution_count": null,
      "outputs": []
    },
    {
      "cell_type": "code",
      "source": [
        "# Задача 2. Подключиться к БД и вывести ее версию\n",
        "\n",
        "\n",
        "import sqlite3\n",
        "\n",
        "def get_connection():\n",
        "  connection = sqlite3.connect('teatchers.db')\n",
        "  return connection\n",
        "\n",
        "def close_connection(connection):\n",
        "  if connection:\n",
        "    connection.close()\n",
        "\n",
        "def read_database_version():\n",
        "  try:\n",
        "    connection = get_connection()\n",
        "    cursor = connection.cursor()\n",
        "    cursor.execute(\"SELECT sqlite_version();\")\n",
        "    db_version = cursor.fetchone()\n",
        "    print (\"Вы подключились к SQLite версии: \", db_version)\n",
        "    close_connection(connection)\n",
        "  except (Exception, sqlite3.Erorr) as erorr:\n",
        "    print (\"Ошибка в получении данных\", erorr)\n",
        "\n",
        "print (\"Задача 2. Подключиться к БД и вывести ее версию\")\n",
        "read_database_version()"
      ],
      "metadata": {
        "colab": {
          "base_uri": "https://localhost:8080/"
        },
        "id": "x_iuTNorHvlq",
        "outputId": "a389e197-81c6-4b95-d81e-1fbb00275e6b"
      },
      "execution_count": null,
      "outputs": [
        {
          "output_type": "stream",
          "name": "stdout",
          "text": [
            "Задача 2. Подключиться к БД и вывести ее версию\n",
            "Вы подключились к SQLite версии:  ('3.31.1',)\n"
          ]
        }
      ]
    },
    {
      "cell_type": "markdown",
      "source": [
        "# Новый раздел"
      ],
      "metadata": {
        "id": "PCR-b8kIHs8E"
      }
    },
    {
      "cell_type": "code",
      "source": [
        "#задача 3 опыт всем\n",
        "import sqlite3\n",
        "connection = sqlite3.connect('teatchers.db')\n",
        "cursor = connection.cursor()\n",
        "update_query =\"UPDATE Teatcher SET Experience = 20 WHERE School_Id = 4\"\n",
        "cursor.execute(update_query)\n",
        "connection.commit()\n",
        "connection.close()"
      ],
      "metadata": {
        "id": "ZwOWZoluJ-vb"
      },
      "execution_count": null,
      "outputs": []
    },
    {
      "cell_type": "code",
      "source": [
        "from IPython.core.debugger import DEBUGGERSKIP\n",
        "# задача 4 \n",
        "\n",
        "import sqlite3\n",
        "\n",
        "def get_connection():\n",
        "  connection = sqlite3.connect('teatchers.db')\n",
        "  return connection\n",
        "\n",
        "def close_connection(connection):\n",
        "  if connection:\n",
        "    connection.close()\n",
        "\n",
        "def get_school_detail(School_Id):\n",
        "  try:\n",
        "    connection = get_connection()\n",
        "    cr\n",
        "\n",
        "\n",
        "\n",
        "\n",
        "def get_teatcher_detail(Teatcher_Id):\n",
        "  try:\n",
        "    connection = get_connection()\n",
        "    cursor =connection.cursor()\n",
        "    select_query = \n",
        "\n"
      ],
      "metadata": {
        "id": "ZQpPORrxOS3m"
      },
      "execution_count": null,
      "outputs": []
    },
    {
      "cell_type": "code",
      "source": [
        "# Создание БД\n",
        "import sqlite3\n",
        "connection = sqlite3.connect('teatchers.db')\n",
        "cursor = connection.cursor()\n",
        "query = \"\"\"INSERT INTO Teatcher (Teatcher_Id , Teatcher_Name , School_Id, Joining_Date , Speciality , Salary, Experience)\n",
        "VALUES\n",
        "('101', 'Галина', '1', '2021 02 10', ' Физик ', '40000', NULL),\n",
        "('102', 'Мария', '1', '2018 07 23', ' Химик ', '20000', NULL),\n",
        "('103', 'Ольга', '2', '2022 05 19', 'Информатик', '25000', NULL),\n",
        "('104', 'Полина', '2', '2017 12 28', 'Физик ', '28000', NULL),\n",
        "('105', 'Лидия', '3', '2015 06 04', 'Информатик', '42000', NULL),\n",
        "('106', 'Анастасия', '3', '2019 09 11', 'Учитель трудов', '30000', NULL),\n",
        "('107', 'Ирина', '4', '2020 08 21', 'Информатик', '32000', NULL),\n",
        "('108', 'Виктория', '4', '2017 10 17', 'Географ', '30000', NULL);\n",
        "\"\"\"\n",
        "cursor.execute(query)\n",
        "connection.commit()\n",
        "connection.close()\n",
        "\n",
        "# Задача 2. Подключиться к БД и вывести ее версию\n",
        "import sqlite3\n",
        "\n",
        "def get_connection():\n",
        "  connection = sqlite3.connect('teatchers.db')\n",
        "  return connection\n",
        "\n",
        "def close_connection(connection):\n",
        "  if connection:\n",
        "    connection.close()\n",
        "\n",
        "def read_database_version():\n",
        "  try:\n",
        "    connection = get_connection()\n",
        "    cursor = connection.cursor()\n",
        "    cursor.execute(\"SELECT sqlite_version();\")\n",
        "    db_version = cursor.fetchone()\n",
        "    print (\"Вы подключились к SQLite версии: \", db_version)\n",
        "    close_connection(connection)\n",
        "  except (Exception, sqlite3.Erorr) as erorr:\n",
        "    print (\"Ошибка в получении данных\", erorr)\n",
        "\n",
        "print (\"Задача 2. Подключиться к БД и вывести ее версию\")\n",
        "read_database_version()\n",
        "\n",
        "# Задача 3. Проставить опыт работы всем учителям\n",
        "import sqlite3\n",
        "connection = sqlite3.connect('teatchers.db')\n",
        "cursor = connection.cursor()\n",
        "update_query =\"UPDATE Teatcher SET Experience = 20 WHERE School_Id = 4\"\n",
        "cursor.execute(update_query)\n",
        "connection.commit()\n",
        "connection.close()\n",
        "\n",
        "# Задача 4. Вывести данные о школе и учителе, используя идентификатор школы и идентификатор учителя\n",
        "import sqlite3\n",
        "\n",
        "def get_connection():\n",
        "  connection = sqlite3.connect('teatchers.db')\n",
        "  return connection\n",
        "\n",
        "def close_connection(connection):\n",
        "  if connection:\n",
        "    connection.close()\n",
        "\n",
        "def get_school_detail(school_id):\n",
        "  try:\n",
        "    connection = get_connection()\n",
        "    cursor = connection.cursor()\n",
        "    select_query = \"\"\"SELECT * FROM School WHERE School_Id = ?\"\"\"\n",
        "    cursor.execute(select_query,(school_id,))\n",
        "    records = cursor.fetchall()\n",
        "    print (\"Данные по школе\")\n",
        "    for row in records:\n",
        "      print (\"ID школы: \", row[0])\n",
        "      print (\"Название школы: \", row[1])\n",
        "      print (\"Количество мест: \", row[2])\n",
        "    close_connection(connection)\n",
        "  except (Exception, sqlite3.Erorr) as erorr:\n",
        "    print (\"Ошибка в получении данных\", erorr)\n",
        "    \n",
        "def get_teatcher_detail(teatcher_id):\n",
        "  try:\n",
        "    connection = get_connection()\n",
        "    cursor = connection.cursor()\n",
        "    select_query = \"\"\"SELECT * FROM Teatcher WHERE Teatcher_Id = ?\"\"\"\n",
        "    cursor.execute(select_query,(teatcher_id,))\n",
        "    records = cursor.fetchall()\n",
        "    print (\"Данные по учителям\")\n",
        "    for row in records:\n",
        "      print (\"ID Учителя: \", row[0])\n",
        "      print (\"Имя учителя: \", row[1])\n",
        "      print (\"ID школы: \", row[2])\n",
        "      print (\"Дата начала работы: \", row[3])\n",
        "      print (\"Специализация: \", row[4])\n",
        "      print (\"Зарплата: \", row[5])\n",
        "      print (\"Опыт работы: \", row[6])\n",
        "  except (Exception, sqlite3.Erorr) as erorr:\n",
        "    print (\"Ошибка в получении данных\", erorr)\n",
        "\n",
        "print (\"Задача 4 Вывести данные по школе и учителю\")\n",
        "get_school_detail(2)\n",
        "\n",
        "get_teatcher_detail(107)"
      ],
      "metadata": {
        "id": "HvZSTqaLTuhG"
      },
      "execution_count": null,
      "outputs": []
    },
    {
      "cell_type": "code",
      "source": [],
      "metadata": {
        "id": "C6szE_nuTuXK"
      },
      "execution_count": null,
      "outputs": []
    }
  ]
}