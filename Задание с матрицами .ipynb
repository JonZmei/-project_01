{
  "nbformat": 4,
  "nbformat_minor": 0,
  "metadata": {
    "colab": {
      "provenance": [],
      "authorship_tag": "ABX9TyNwP3c/DW5SFsR85iclaFv+",
      "include_colab_link": true
    },
    "kernelspec": {
      "name": "python3",
      "display_name": "Python 3"
    },
    "language_info": {
      "name": "python"
    }
  },
  "cells": [
    {
      "cell_type": "markdown",
      "metadata": {
        "id": "view-in-github",
        "colab_type": "text"
      },
      "source": [
        "<a href=\"https://colab.research.google.com/github/JonZmei/-project_01/blob/%D0%92%D1%81%D0%B5-%D0%B7%D0%B0%D0%B4%D0%B0%D0%BD%D0%B8%D1%8F-%D0%B8-%D1%84%D0%B0%D0%B9%D0%BB%D1%8B/%D0%97%D0%B0%D0%B4%D0%B0%D0%BD%D0%B8%D0%B5%20%D1%81%20%D0%BC%D0%B0%D1%82%D1%80%D0%B8%D1%86%D0%B0%D0%BC%D0%B8%20.ipynb\" target=\"_parent\"><img src=\"https://colab.research.google.com/assets/colab-badge.svg\" alt=\"Open In Colab\"/></a>"
      ]
    },
    {
      "cell_type": "markdown",
      "source": [
        "Задания с Матрицами "
      ],
      "metadata": {
        "id": "qVH6oSAreyr5"
      }
    },
    {
      "cell_type": "markdown",
      "source": [
        "Задание 4 "
      ],
      "metadata": {
        "id": "4-IEeHb3e245"
      }
    },
    {
      "cell_type": "code",
      "execution_count": null,
      "metadata": {
        "id": "9RtDOiSUeYEJ"
      },
      "outputs": [],
      "source": [
        "import numpy as np\n",
        "import pandas as pd\n",
        "\n",
        "# создаем матрицу с диагональными значениями\n",
        "diag_values = [16, 5, 8, 10, 9, 1]\n",
        "diag_matrix = np.diag(diag_values)\n",
        "\n",
        "# сохраняем результат в файл csv\n",
        "df = pd.DataFrame(diag_matrix)\n",
        "df.to_csv('task4.csv', index=False, header=False)\n",
        "\n",
        "\n",
        "\n",
        "\n",
        "# создаемdiag_values, содержащий диагональные значения матрицы.\n",
        "# используемnp.diag() из\n",
        "# создаемdiag_matrix, используя функцию pd.DataFrame().\n",
        "# сохраняем объект DataFrameto_csv(). Мы указываем index=False, чтобы не сохранять индексheader=False, чтобы не сохранять заголовок столбцов."
      ]
    },
    {
      "cell_type": "markdown",
      "source": [
        "Задание 5 "
      ],
      "metadata": {
        "id": "NhTLgWU9fLJj"
      }
    },
    {
      "cell_type": "code",
      "source": [
        "import numpy as np\n",
        "import pandas as pd\n",
        "\n",
        "# создаем матрицу\n",
        "matrix = np.random.randint(50, 101, (7, 7))\n",
        "\n",
        "# сохраняем результат в файл csv\n",
        "df = pd.DataFrame(matrix)\n",
        "df.to_csv('task5.csv', index=False, header=False)\n"
      ],
      "metadata": {
        "id": "nGmObhK9fWQ6"
      },
      "execution_count": null,
      "outputs": []
    },
    {
      "cell_type": "markdown",
      "source": [
        "Задание 6 "
      ],
      "metadata": {
        "id": "2nnS-nPhfW63"
      }
    },
    {
      "cell_type": "code",
      "source": [
        "import numpy as np\n",
        "import pandas as pd\n",
        "\n",
        "# создаем матрицу\n",
        "matrix = np.random.randint(50, 101, (7, 7))\n",
        "\n",
        "# считаем сумму элементов по столбцам\n",
        "sum_by_columns = np.sum(matrix, axis=0)\n",
        "\n",
        "# считаем сумму элементов по строкам\n",
        "sum_by_rows = np.sum(matrix, axis=1)\n",
        "\n",
        "# считаем общую сумму элементов\n",
        "total_sum = np.sum(matrix)\n",
        "\n",
        "# сохраняем результаты в файл csv\n",
        "df = pd.DataFrame(matrix)\n",
        "df.to_csv('task6.csv', index=False, header=False)\n",
        "\n",
        "# выводим результаты на экран\n",
        "print(\"Сумма элементов по столбцам: \", sum_by_columns)\n",
        "print(\"Сумма элементов по строкам: \", sum_by_rows)\n",
        "print(\"Общая сумма элементов: \", total_sum)\n",
        "\n",
        "\n",
        "\n",
        "# используем функцию np.random.randint() из библиотеки NumPy для создания матрицы размером 7 на 7 со случайными целочисленными значениями в диапазоне от 50 до 100.\n",
        "# используем функцию np.sum() из библиотеки NumPy для подсчета суммы элементов по столбцам и строкам, а также общей суммы элементов.\n",
        "# создаем объект DataFrame из матрицы matrix, используя функцию pd.DataFrame().\n",
        "# сохраняем объект DataFrame в файл csv с помощью метода to_csv(). Мы указываем index=False, чтобы не сохранять иheader=False, чтобы не сохранять заголовок столбцов.\n",
        "# выводимprint(). "
      ],
      "metadata": {
        "id": "AMK7SyAMfeCY"
      },
      "execution_count": null,
      "outputs": []
    }
  ]
}