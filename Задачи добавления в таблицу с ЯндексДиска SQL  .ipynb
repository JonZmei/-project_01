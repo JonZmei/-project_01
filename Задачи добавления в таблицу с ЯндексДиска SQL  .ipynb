{
  "nbformat": 4,
  "nbformat_minor": 0,
  "metadata": {
    "colab": {
      "provenance": [],
      "authorship_tag": "ABX9TyMDzalrsRpP9CFonSshpgzK",
      "include_colab_link": true
    },
    "kernelspec": {
      "name": "python3",
      "display_name": "Python 3"
    },
    "language_info": {
      "name": "python"
    }
  },
  "cells": [
    {
      "cell_type": "markdown",
      "metadata": {
        "id": "view-in-github",
        "colab_type": "text"
      },
      "source": [
        "<a href=\"https://colab.research.google.com/github/JonZmei/-project_01/blob/%D0%92%D1%81%D0%B5-%D0%B7%D0%B0%D0%B4%D0%B0%D0%BD%D0%B8%D1%8F-%D0%B8-%D1%84%D0%B0%D0%B9%D0%BB%D1%8B/%D0%97%D0%B0%D0%B4%D0%B0%D1%87%D0%B8%20%D0%B4%D0%BE%D0%B1%D0%B0%D0%B2%D0%BB%D0%B5%D0%BD%D0%B8%D1%8F%20%D0%B2%20%D1%82%D0%B0%D0%B1%D0%BB%D0%B8%D1%86%D1%83%20%D1%81%20%D0%AF%D0%BD%D0%B4%D0%B5%D0%BA%D1%81%D0%94%D0%B8%D1%81%D0%BA%D0%B0%20SQL%20%20.ipynb\" target=\"_parent\"><img src=\"https://colab.research.google.com/assets/colab-badge.svg\" alt=\"Open In Colab\"/></a>"
      ]
    },
    {
      "cell_type": "markdown",
      "source": [
        "Данные задачи 1 2 3 работают на основе  1 кода как дополнение и работа с билеотеками скаченые с Яндекс диска"
      ],
      "metadata": {
        "id": "vMgLfkpKP27v"
      }
    },
    {
      "cell_type": "code",
      "source": [
        "import sqlite3\n",
        "import pandas as pd\n",
        "\n",
        "connection = sqlite3.connect('Schools.db')\n",
        "#cursor = connection.cursor()\n",
        "#query = \"\"\"SELECT * FROM School;\"\"\"\n",
        "#cursor.execute(query)\n",
        "#records = cursor.fetchall()\n",
        "#print(records)\n",
        "df2 = pd.DataFrame({\n",
        "    \"School_Id\": [7,8],\n",
        "    \"School_Name\": [\"Школа1\", \"Школа2\"],\n",
        "    \"Place_Count\": [240, 510]    \n",
        "})\n",
        "\n",
        "df2.to_sql(\"School\", con = connection, if_exists = \"append\", index = False)\n",
        "\n",
        "df = pd.read_sql(\"SELECT * FROM School;\", connection)\n",
        "#connection.close()\n",
        "print (df)\n",
        "\n",
        "import sqlite3\n",
        "import pandas as pd\n",
        "\n",
        "connection = sqlite3.connect('Schools.db')\n",
        "df_city = pd.DataFrame({\n",
        "    \"School_Id\":[1,2,3,4],\n",
        "    \"City\":[\"Москва\",\"Спб\",\"Казань\", \"Екб\"]\n",
        "})\n",
        "\n",
        "df_city.to_sql(\"City\", connection)\n",
        "\n",
        "import sqlite3\n",
        "import pandas as pd\n",
        "\n",
        "connection = sqlite3.connect('Schools.db')\n",
        "select_query = \"\"\"SELECT City.City, School.School_Name FROM School, City WHERE City.School_Id = School.School_Id\"\"\"\n",
        "xl_output=pd.read_sql(select_query, connection)\n",
        "xl_output.to_excel('test1.xlsx', index = False)"
      ],
      "metadata": {
        "id": "TWb8jwPlOGfJ"
      },
      "execution_count": null,
      "outputs": []
    },
    {
      "cell_type": "code",
      "execution_count": null,
      "metadata": {
        "id": "AWJfzNmKNjls"
      },
      "outputs": [],
      "source": [
        "import pandas as pd\n",
        "import sqlite3\n",
        "\n",
        "# Создаем соединение с базой данных\n",
        "conn = sqlite3.connect('Students.db')\n",
        "\n",
        "# Читаем таблицу Students и записываем ее в датафрейм\n",
        "df = pd.read_sql_query(\"SELECT * from Students\", conn)\n",
        "\n",
        "# Закрываем соединение\n",
        "conn.close()\n",
        "\n",
        "# Записываем датафрейм в xlsx файл\n",
        "df.to_excel('Task1.xlsx', index=False)\n"
      ]
    },
    {
      "cell_type": "markdown",
      "source": [
        "2 задание\n"
      ],
      "metadata": {
        "id": "Wyu8i_qqObcI"
      }
    },
    {
      "cell_type": "code",
      "source": [
        "import pandas as pd\n",
        "import sqlite3\n",
        "\n",
        "# Создаем соединение с базой данных\n",
        "conn = sqlite3.connect('Students.db')\n",
        "\n",
        "# Создаем датафрейм с новыми студентами\n",
        "new_students = pd.DataFrame({\n",
        "    'name': ['John', 'Sarah', 'Mike'],\n",
        "    'age': [20, 19, 21],\n",
        "    'gender': ['male', 'female', 'male']\n",
        "})\n",
        "\n",
        "# Добавляем новых студентов в таблицу Students\n",
        "new_students.to_sql('Students', conn, if_exists='append', index=False)\n",
        "\n",
        "# Читаем обновленную таблицу Students и записываем ее в датафрейм\n",
        "df = pd.read_sql_query(\"SELECT * from Students\", conn)\n",
        "\n",
        "# Закрываем соединение\n",
        "conn.close()\n",
        "\n",
        "# Записываем датафрейм в xlsx файл\n",
        "df.to_excel('Task2.xlsx', index=False)\n",
        "\n"
      ],
      "metadata": {
        "id": "-_vbLdNTOd55"
      },
      "execution_count": null,
      "outputs": []
    },
    {
      "cell_type": "markdown",
      "source": [
        "Задание 3 "
      ],
      "metadata": {
        "id": "WeTrigI-PPxs"
      }
    },
    {
      "cell_type": "code",
      "source": [
        "import pandas as pd\n",
        "import sqlite3\n",
        "\n",
        "# Создаем соединение с базой данных\n",
        "conn = sqlite3.connect('Students.db')\n",
        "\n",
        "# Создаем таблицу Cars\n",
        "cars = pd.DataFrame({\n",
        "    'Car': ['BMW', 'Audi', 'Mercedes'],\n",
        "    'Student_Id': [1, 2, 3]\n",
        "})\n",
        "\n",
        "# Добавляем таблицу Cars в базу данных\n",
        "cars.to_sql('Cars', conn, if_exists='replace', index=False)\n",
        "\n",
        "# Запрос для объединения таблиц Students и Cars\n",
        "query = '''\n",
        "SELECT Students.name as Student_Name, Cars.Car \n",
        "FROM Students \n",
        "JOIN Cars ON Students.ID = Cars.Student_Id\n",
        "'''\n",
        "\n",
        "# Читаем таблицу Students и Cars, объединяем их и записываем в датафрейм\n",
        "df = pd.read_sql_query(query, conn)\n",
        "\n",
        "# Закрываем соединение\n",
        "conn.close()\n",
        "\n",
        "# Записываем датафрейм в xlsx файл\n",
        "df.to_excel('Task3.xlsx', index=False)\n"
      ],
      "metadata": {
        "id": "MTY4nZUKPSJu"
      },
      "execution_count": null,
      "outputs": []
    }
  ]
}