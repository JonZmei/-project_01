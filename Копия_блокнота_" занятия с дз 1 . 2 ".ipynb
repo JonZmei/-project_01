{
  "nbformat": 4,
  "nbformat_minor": 0,
  "metadata": {
    "colab": {
      "provenance": [],
      "toc_visible": true,
      "collapsed_sections": [
        "yfmW3cVwr01u",
        "aGAIn5AH8Xo-",
        "dOdw9q99_MOe",
        "NuBSJaWsEtiG",
        "oBrrYDy8QQIc"
      ],
      "mount_file_id": "1rYexcPcN_yuw6Il6X4aWOC0x7LFvE8dp",
      "authorship_tag": "ABX9TyPWoaNumlFe5HCDP7wXCu2N",
      "include_colab_link": true
    },
    "kernelspec": {
      "name": "python3",
      "display_name": "Python 3"
    },
    "language_info": {
      "name": "python"
    }
  },
  "cells": [
    {
      "cell_type": "markdown",
      "metadata": {
        "id": "view-in-github",
        "colab_type": "text"
      },
      "source": [
        "<a href=\"https://colab.research.google.com/github/JonZmei/-project_01/blob/Python-DZ/%D0%9A%D0%BE%D0%BF%D0%B8%D1%8F_%D0%B1%D0%BB%D0%BE%D0%BA%D0%BD%D0%BE%D1%82%D0%B0_%22%20%D0%B7%D0%B0%D0%BD%D1%8F%D1%82%D0%B8%D1%8F%20%D1%81%20%D0%B4%D0%B7%201%20.%202%20%22.ipynb\" target=\"_parent\"><img src=\"https://colab.research.google.com/assets/colab-badge.svg\" alt=\"Open In Colab\"/></a>"
      ]
    },
    {
      "cell_type": "markdown",
      "source": [
        "# Типы данных в Python \n",
        "* int целое число \n",
        "* (2//2) = 1.0\n",
        "* float десетичное число \n",
        "\n",
        "### Где писать пробелы ?\n",
        "* между элементами внутри скобок [1.2.3.4.]\n",
        "* после кадого знака\n",
        "+,-,*,/,= и,т,д <br>\n",
        "\n",
        "**НО** не ставте пробел между именем функции и скобочками !!\n",
        "\n",
        "# True \n",
        "* 2==2 \n",
        "# остаток от деления %\n",
        "* 10/3    = 1\n",
        "# операция сравнения == <.> \n",
        "2==2\n",
        "# степень\n",
        "2**1000\n",
        "#  С помощью = переменной можно присвоить значение \n",
        "# х=100\n",
        "# Можно определить сразу несколько переменных \n",
        "# x , y = 400 , 1\n",
        "# print (выводится на экран то что в скобочках \n",
        "# складывать и вычитать flot и int  можно\n",
        "# int целое число \n",
        "# float дробное число \n",
        "# round(12.5) округление к ближайшему четному числу \n",
        "# ~ инвертация \n",
        "\n",
        "# Функции  - инструменты по обработке данных \n",
        "*print()\n",
        "*trpe (9)\n",
        "*round(1.222 , 2)\n",
        "*int(2.3)\n",
        "*float(90)"
      ],
      "metadata": {
        "id": "yfmW3cVwr01u"
      }
    },
    {
      "cell_type": "markdown",
      "source": [
        "Переменные - язык "
      ],
      "metadata": {
        "id": "lL6PRjWW5VF7"
      }
    },
    {
      "cell_type": "code",
      "source": [
        "# кондр\n",
        "# слеш\n",
        "# это \n",
        "# коментарии"
      ],
      "metadata": {
        "id": "xUSD70hPw4nu"
      },
      "execution_count": null,
      "outputs": []
    },
    {
      "cell_type": "code",
      "source": [
        "2*2\n"
      ],
      "metadata": {
        "colab": {
          "base_uri": "https://localhost:8080/"
        },
        "id": "-1foR8gnsI2U",
        "outputId": "082b82cc-dad3-4873-ddac-d921decf5c7e"
      },
      "execution_count": null,
      "outputs": [
        {
          "output_type": "execute_result",
          "data": {
            "text/plain": [
              "4"
            ]
          },
          "metadata": {},
          "execution_count": 3
        }
      ]
    },
    {
      "cell_type": "code",
      "source": [
        "2+2*3"
      ],
      "metadata": {
        "colab": {
          "base_uri": "https://localhost:8080/"
        },
        "id": "ATiVHIZ4uSi6",
        "outputId": "1fd72754-1752-48ef-da11-b802b4a1f031"
      },
      "execution_count": null,
      "outputs": [
        {
          "output_type": "execute_result",
          "data": {
            "text/plain": [
              "8"
            ]
          },
          "metadata": {},
          "execution_count": 4
        }
      ]
    },
    {
      "cell_type": "code",
      "source": [
        "2//2\n"
      ],
      "metadata": {
        "colab": {
          "base_uri": "https://localhost:8080/"
        },
        "id": "AIHV2p0rvYhx",
        "outputId": "10ebffc0-9e15-4e51-be9e-75e1bee69dfe"
      },
      "execution_count": null,
      "outputs": [
        {
          "output_type": "execute_result",
          "data": {
            "text/plain": [
              "1"
            ]
          },
          "metadata": {},
          "execution_count": 10
        }
      ]
    },
    {
      "cell_type": "code",
      "source": [
        "# % остаток от деления \n",
        "10%3"
      ],
      "metadata": {
        "colab": {
          "base_uri": "https://localhost:8080/"
        },
        "id": "nAuop5jPv_Cv",
        "outputId": "d2eece32-9fe8-488f-d455-dab1a9d34800"
      },
      "execution_count": null,
      "outputs": [
        {
          "output_type": "execute_result",
          "data": {
            "text/plain": [
              "1"
            ]
          },
          "metadata": {},
          "execution_count": 14
        }
      ]
    },
    {
      "cell_type": "code",
      "source": [
        "( 30 - 60 ) / 22 + (( 20 // 2) * 10 + 5)"
      ],
      "metadata": {
        "colab": {
          "base_uri": "https://localhost:8080/"
        },
        "id": "y90j3drwuUop",
        "outputId": "e7124400-8858-425c-86f8-b12b2c759e89"
      },
      "execution_count": null,
      "outputs": [
        {
          "output_type": "execute_result",
          "data": {
            "text/plain": [
              "103.63636363636364"
            ]
          },
          "metadata": {},
          "execution_count": 9
        }
      ]
    },
    {
      "cell_type": "code",
      "source": [
        "def nenorm(x,y):\n",
        "  res=x*y//2\n",
        "  return res\n",
        "\n",
        "def norm(x,y):\n",
        "  res=x*y//2\n",
        "  return res\n",
        "  "
      ],
      "metadata": {
        "id": "t6-atJyKukIb"
      },
      "execution_count": null,
      "outputs": []
    },
    {
      "cell_type": "code",
      "source": [
        "# степень\n",
        "2**1000\n"
      ],
      "metadata": {
        "colab": {
          "base_uri": "https://localhost:8080/"
        },
        "id": "ku1R4UL5w-2M",
        "outputId": "66197454-c237-4f32-89be-3461c900cd6a"
      },
      "execution_count": null,
      "outputs": [
        {
          "output_type": "execute_result",
          "data": {
            "text/plain": [
              "10715086071862673209484250490600018105614048117055336074437503883703510511249361224931983788156958581275946729175531468251871452856923140435984577574698574803934567774824230985421074605062371141877954182153046474983581941267398767559165543946077062914571196477686542167660429831652624386837205668069376"
            ]
          },
          "metadata": {},
          "execution_count": 17
        }
      ]
    },
    {
      "cell_type": "code",
      "source": [
        "# операция сравнения == <.> \n",
        "2==2"
      ],
      "metadata": {
        "colab": {
          "base_uri": "https://localhost:8080/"
        },
        "id": "i3q10_7lxNkF",
        "outputId": "9955d2ff-b437-4ad3-f63f-a52f41d084b4"
      },
      "execution_count": null,
      "outputs": [
        {
          "output_type": "execute_result",
          "data": {
            "text/plain": [
              "True"
            ]
          },
          "metadata": {},
          "execution_count": 19
        }
      ]
    },
    {
      "cell_type": "code",
      "source": [
        "print(2+2)\n",
        "print(2//2)\n",
        "22*22"
      ],
      "metadata": {
        "colab": {
          "base_uri": "https://localhost:8080/"
        },
        "id": "GNxMua2MytNt",
        "outputId": "0066c59b-df64-401d-9682-8ffccae06936"
      },
      "execution_count": null,
      "outputs": [
        {
          "output_type": "stream",
          "name": "stdout",
          "text": [
            "4\n",
            "1\n"
          ]
        },
        {
          "output_type": "execute_result",
          "data": {
            "text/plain": [
              "484"
            ]
          },
          "metadata": {},
          "execution_count": 20
        }
      ]
    },
    {
      "cell_type": "code",
      "source": [
        "print(int(21) + float(21) * 0)"
      ],
      "metadata": {
        "id": "yOcPUp6VzsrK",
        "colab": {
          "base_uri": "https://localhost:8080/"
        },
        "outputId": "a63c4ace-97c3-45e0-a711-c949d8bc42cf"
      },
      "execution_count": null,
      "outputs": [
        {
          "output_type": "stream",
          "name": "stdout",
          "text": [
            "21.0\n"
          ]
        }
      ]
    },
    {
      "cell_type": "code",
      "source": [
        "round(12.5)"
      ],
      "metadata": {
        "colab": {
          "base_uri": "https://localhost:8080/"
        },
        "id": "xnYvsa4R1gYe",
        "outputId": "b8ae9b04-a8e5-4843-94fa-54d59f63c4a8"
      },
      "execution_count": null,
      "outputs": [
        {
          "output_type": "execute_result",
          "data": {
            "text/plain": [
              "12"
            ]
          },
          "metadata": {},
          "execution_count": 6
        }
      ]
    },
    {
      "cell_type": "code",
      "source": [
        "print(30.0//3)"
      ],
      "metadata": {
        "colab": {
          "base_uri": "https://localhost:8080/"
        },
        "id": "w75JUsQ014-m",
        "outputId": "64e42e98-3323-48c4-a972-5d1363a8632b"
      },
      "execution_count": null,
      "outputs": [
        {
          "output_type": "stream",
          "name": "stdout",
          "text": [
            "10.0\n"
          ]
        }
      ]
    },
    {
      "cell_type": "code",
      "source": [
        "n = 5 \n",
        "\n",
        "~n == -( n + 1 )"
      ],
      "metadata": {
        "colab": {
          "base_uri": "https://localhost:8080/"
        },
        "id": "YU-dzeos3oVQ",
        "outputId": "2dfc26a0-761b-43fc-b36f-82ccfd60884d"
      },
      "execution_count": null,
      "outputs": [
        {
          "output_type": "execute_result",
          "data": {
            "text/plain": [
              "True"
            ]
          },
          "metadata": {},
          "execution_count": 8
        }
      ]
    },
    {
      "cell_type": "code",
      "source": [],
      "metadata": {
        "id": "CJ3iWHfy3yAv"
      },
      "execution_count": null,
      "outputs": []
    },
    {
      "cell_type": "markdown",
      "source": [
        "# Операции со списками \n",
        "# primes = [2, 3, 5, 7, 11, 13]\n",
        "Список – это последовательность элементов, пронумерованных от 0, как\n",
        "символы в строке\n",
        "# rainbow = ['red', 'green', 'blue']\n",
        "Список может хранить любые типы объектов\n",
        "rainbow = ['red', 62, 2.3]\n",
        "Даже в перемешку\n",
        "# rainbow = ['red', x, y]\n",
        "Список может содержать переменные. Однако при выводе списка\n",
        "появится содержимое этих переменных\n",
        "# chars = list('Hello')\n",
        "['H', 'e', 'l', 'l', 'o']\n",
        "Функция list() превращает записанное слово в набор символов.\n",
        "\n",
        "# Вывод элемента со списка \n",
        "rainbow[2]\n",
        "2.3\n",
        "Нумерация в списке начинается с 0\n",
        "#primes[-1]\n",
        "13\n",
        "Выдан элемент списка с конца\n",
        "#primes[3:6]\n",
        "[7, 11, 13]\n",
        "Аналогичны операциям со строками\n",
        "#primes[::2]\n",
        "[2, 5, 11]\n",
        "Аналогичны операциям со строками\n",
        "#primes[::-1]\n",
        "[13, 11, 7, 5, 3, 2]\n",
        "Позволяет перевернуть список\n",
        "#len(primes)\n",
        "6\n",
        "С помощью len можно вывести количество элементов\n",
        "#primes.append(15)\n",
        "функция append() добавляет к списку один объект с конца. Объект может\n",
        "быть любым\n",
        "#rainbow.append([21])\n",
        "['red', 'green', 'blue', [21]]\n",
        "Метод append() не расширяет список элемента, а только добавляет объект\n",
        "в конце.\n",
        "# rain_2 = rainbow.append('sky')\n",
        "Что будет если вывести print(rain_2)?"
      ],
      "metadata": {
        "id": "_2FO-8Df2ng9"
      }
    },
    {
      "cell_type": "markdown",
      "source": [
        "# Домашнее задание 1.1 \n",
        "# Здесь мы использовали индексы, чтобы извлечь нужные части строки my_favorite_songs. Для первого трека мы использовали индексы 0:15, чтобы извлечь первые 15 символов строки (то есть название первой песни). Для последнего трека мы использовали индексы -18:, чтобы извлечь последние 18 символов строки (то есть название последней песни)"
      ],
      "metadata": {
        "id": "r8D1zMDs79I0"
      }
    },
    {
      "cell_type": "code",
      "source": [
        "my_favorite_songs = \"Stairway to Heaven, Hotel California, Imagine, Hey Jude, Comfortably Numb\"\n",
        "\n",
        "# первый трек\n",
        "print(my_favorite_songs[:18])\n",
        "\n",
        "# последний трек\n",
        "print(my_favorite_songs[39:])\n",
        "\n",
        "# второй трек\n",
        "print(my_favorite_songs[21:38])\n",
        "\n",
        "# второй с конца трек\n",
        "print(my_favorite_songs[-22:-5])"
      ],
      "metadata": {
        "colab": {
          "base_uri": "https://localhost:8080/"
        },
        "id": "TDMkl_D68DJN",
        "outputId": "b9ca6be6-3837-4f87-ee33-f4b8d02de661"
      },
      "execution_count": null,
      "outputs": [
        {
          "output_type": "stream",
          "name": "stdout",
          "text": [
            "Stairway to Heaven\n",
            "magine, Hey Jude, Comfortably Numb\n",
            "otel California, \n",
            "Jude, Comfortably\n"
          ]
        }
      ]
    },
    {
      "cell_type": "markdown",
      "source": [
        "# Или "
      ],
      "metadata": {
        "id": "zsgPcUtU9coI"
      }
    },
    {
      "cell_type": "code",
      "source": [
        "my_favorite_songs = \"Stairway to Heaven, Imagine, Smells Like Teen Spirit, Bohemian Rhapsody, Hotel California\"\n",
        "\n",
        "# первый трек\n",
        "print(my_favorite_songs[:18])\n",
        "\n",
        "# последний трек\n",
        "print(my_favorite_songs[-16:])\n",
        "\n",
        "# второй трек\n",
        "second_track_start = my_favorite_songs.index(\", \") + 2\n",
        "second_track_end = my_favorite_songs.index(\", \", second_track_start)\n",
        "print(my_favorite_songs[second_track_start:second_track_end])\n",
        "\n",
        "# второй с конца трек\n",
        "penultimate_track_end = my_favorite_songs.rindex(\", \")\n",
        "penultimate_track_start = my_favorite_songs.rindex(\", \", 0, penultimate_track_end) + 2\n",
        "print(my_favorite_songs[penultimate_track_start:penultimate_track_end])\n"
      ],
      "metadata": {
        "colab": {
          "base_uri": "https://localhost:8080/"
        },
        "id": "XTkJZ_VN9GwD",
        "outputId": "0e33b787-bc56-4b45-d5ee-117b6dc07911"
      },
      "execution_count": null,
      "outputs": [
        {
          "output_type": "stream",
          "name": "stdout",
          "text": [
            "Stairway to Heaven\n",
            "Hotel California\n",
            "Imagine\n",
            "Bohemian Rhapsody\n"
          ]
        }
      ]
    },
    {
      "cell_type": "markdown",
      "source": [
        "# Домашнее задание 1.2\n",
        "# # Задача 1.2.\n",
        "\n",
        "# Пункт A. \n",
        "# Приведем плейлист песен в виде списка списков\n",
        "# Список my_favorite_songs содержит список названий и длительности каждого трека\n",
        "# Выведите общее время звучания трех случайных песен в формате\n",
        "# Три песни звучат ХХХ минут\n",
        "\n",
        "= мои любимые песни [\n",
        " [\"Потеряй мгновение\", 3.03],\n",
        " [\"Новое спасение\", 4.02],\n",
        " [\"Остаться в живых\", 3.40],\n",
        " [\"Вне связи\", 3.03],\n",
        " [\"Своего рода сказка\", 5.28],\n",
        " [\"Легко\", 4.15],\n",
        " [\"Прекрасный день\", 4.04],\n",
        " [\"Некуда бежать\", 2.58],\n",
        " [\"В этом мире\", 4.02],\n",
        "]"
      ],
      "metadata": {
        "id": "aGAIn5AH8Xo-"
      }
    },
    {
      "cell_type": "code",
      "source": [
        "import random\n",
        "import datetime\n",
        "\n",
        "my_favorite_songs = [\n",
        "    [\"Потеряй мгновение\", 3.03],\n",
        "    [\"Новое спасение\", 4.02],\n",
        "    [\"Остаться в живых\", 3.40],\n",
        "    [\"Вне связи\", 3.03],\n",
        "    [\"Своего рода сказка\", 5.28],\n",
        "    [\"Легко\", 4.15],\n",
        "    [\"Прекрасный день\", 4.04],\n",
        "    [\"Некуда бежать\", 2.58],\n",
        "    [\"В этом мире\", 4.02]\n",
        "]\n",
        "\n",
        "# Выберем три случайные песни из списка\n",
        "random_songs = random.sample(my_favorite_songs, 3)\n",
        "\n",
        "# Посчитаем общее время звучания трех песен\n",
        "total_time = sum(song[1] for song in random_songs)\n",
        "\n",
        "# Выведем результат на экран\n",
        "print(f\"Три песни звучат {total_time:.0f} минут\")\n"
      ],
      "metadata": {
        "colab": {
          "base_uri": "https://localhost:8080/"
        },
        "id": "LQBZXXfR-3m7",
        "outputId": "f94657b3-870d-4e2e-ef12-342b00459de0"
      },
      "execution_count": null,
      "outputs": [
        {
          "output_type": "stream",
          "name": "stdout",
          "text": [
            "Три песни звучат 11 минут\n"
          ]
        }
      ]
    },
    {
      "cell_type": "markdown",
      "source": [
        "## Пункт B. \n",
        "# Есть словарь песен \n",
        "# Распечатайте общее время звучания трех случайных песен\n",
        "# Вывод: Три песни звучат ХХХ минут.\n",
        "\n",
        "= my_favorite_songs_dict {\n",
        "    \"Потеряй минутку\": 3.03,\n",
        "    \"Новое спасение\": 4.02,\n",
        "    \"Остаться в живых\": 3.40,\n",
        "    \"Вне связи\": 3.03,\n",
        "    \"Своего рода сказка\": 5.28,\n",
        "    \"Легко\": 4.15,\n",
        "    \"Прекрасный день\": 4.04,\n",
        "    \"Некуда бежать\": 2.58,\n",
        "    \"В этом мире\": 4.02,\n",
        "}\n"
      ],
      "metadata": {
        "id": "dOdw9q99_MOe"
      }
    },
    {
      "cell_type": "code",
      "source": [
        "import random\n",
        "import datetime\n",
        "\n",
        "my_favorite_songs_dict = {\n",
        "    \"Потеряй минутку\": 3.03, \n",
        "    \"Новое спасение\": 4.02, \n",
        "    \"Остаться в живых\": 3.40, \n",
        "    \"Вне связи\": 3.03, \n",
        "    \"Своего рода сказка\": 5.28, \n",
        "    \"Легко\": 4.15, \n",
        "    \"Прекрасный день\": 4.04, \n",
        "    \"Некуда бежать\": 2.58, \n",
        "    \"В этом мире\": 4.02,\n",
        "}\n",
        "\n",
        "# Генерация трех случайных песен\n",
        "random_songs = random.sample(list(my_favorite_songs_dict.keys()), 3)\n",
        "\n",
        "# Подсчет общего времени звучания\n",
        "total_time = sum([my_favorite_songs_dict[song] for song in random_songs])\n",
        "\n",
        "# Перевод общего времени в формат времени\n",
        "total_time_formatted = str(datetime.timedelta(minutes=total_time))\n",
        "\n",
        "print(\"Три песни звучат {} минут.\".format(total_time_formatted))"
      ],
      "metadata": {
        "colab": {
          "base_uri": "https://localhost:8080/"
        },
        "id": "JM7jcLzO_RQX",
        "outputId": "7b925a58-9c7e-4876-e25b-e4eed1f02318"
      },
      "execution_count": null,
      "outputs": [
        {
          "output_type": "stream",
          "name": "stdout",
          "text": [
            "Три песни звучат 0:13:20.400000 минут.\n"
          ]
        }
      ]
    },
    {
      "cell_type": "markdown",
      "source": [
        "# Дополнительно для пунктов A и B\n",
        "# Пункт C.\n",
        "# Сгенерируйте случайные песни с помощью модуля random\n",
        "# импортировать случайным образом\n",
        "\n",
        "# Дополнительно \n",
        "# Пункт D.\n",
        "# Переведите минуты и секунды в формат времени. Используйте модуль datetime \n"
      ],
      "metadata": {
        "id": "lOk9Wa1tDU0d"
      }
    },
    {
      "cell_type": "markdown",
      "source": [
        "# Задача 1.3.\n",
        "# Напишите скрипт, который принимает от пользователя номер месяца, \n",
        "# а возвращает количество дней в нем.\n",
        "# Результат проверки вывести на консоль\n",
        "# Допущение: в феврале 28 дней\n",
        "# Если номер месяца некорректен - сообщить об этом\n",
        "\n",
        "# Например,\n",
        "    # Введите номер месяца: 3\n",
        "    # Вы ввели март. 31 дней\n",
        "\n",
        "    # Введите номер месяца: 2\n",
        "    # Вы ввели февраль. 28 дней\n",
        "\n",
        "    # Введите номер месяца: 15\n",
        "    # Такого месяца нет!"
      ],
      "metadata": {
        "id": "NuBSJaWsEtiG"
      }
    },
    {
      "cell_type": "code",
      "source": [
        "month_days = {\n",
        "    1: 31,\n",
        "    2: 28,\n",
        "    3: 31,\n",
        "    4: 30,\n",
        "    5: 31,\n",
        "    6: 30,\n",
        "    7: 31,\n",
        "    8: 31,\n",
        "    9: 30,\n",
        "    10: 31,\n",
        "    11: 30,\n",
        "    12: 31\n",
        "}\n",
        "\n",
        "month_names = {\n",
        "    'январь': 1,\n",
        "    'февраль': 2,\n",
        "    'март': 3,\n",
        "    'апрель': 4,\n",
        "    'май': 5,\n",
        "    'июнь': 6,\n",
        "    'июль': 7,\n",
        "    'август': 8,\n",
        "    'сентябрь': 9,\n",
        "    'октябрь': 10,\n",
        "    'ноябрь': 11,\n",
        "    'декабрь': 12\n",
        "}\n",
        "\n",
        "month_input = input(\"Введите номер месяца или название месяца на русском языке: \")\n",
        "if month_input.isdigit():\n",
        "    month_number = int(month_input)\n",
        "    if month_number in month_days:\n",
        "        days = month_days[month_number]\n",
        "        month_name = {\n",
        "            1: 'январь',\n",
        "            2: 'февраль',\n",
        "            3: 'март',\n",
        "            4: 'апрель',\n",
        "            5: 'май',\n",
        "            6: 'июнь',\n",
        "            7: 'июль',\n",
        "            8: 'август',\n",
        "            9: 'сентябрь',\n",
        "            10: 'октябрь',\n",
        "            11: 'ноябрь',\n",
        "            12: 'декабрь'\n",
        "        }[month_number]\n",
        "        print(f\"Вы ввели {month_name}. {days} дней\")\n",
        "    else:\n",
        "        print(\"Такого месяца нет!\")\n",
        "elif month_input in month_names:\n",
        "    month_number = month_names[month_input]\n",
        "    days = month_days[month_number]\n",
        "    print(f\"Вы ввели {month_input}. {days} дней\")\n",
        "else:\n",
        "    print(\"Неверный формат ввода!\")\n"
      ],
      "metadata": {
        "colab": {
          "base_uri": "https://localhost:8080/"
        },
        "id": "2RwazKMCEyE8",
        "outputId": "539cddb9-3fd1-43bb-df50-8481a31a269b"
      },
      "execution_count": null,
      "outputs": [
        {
          "output_type": "stream",
          "name": "stdout",
          "text": [
            "Введите номер месяца или название месяца на русском языке: 3\n",
            "Вы ввели март. 31 дней\n"
          ]
        }
      ]
    },
    {
      "cell_type": "markdown",
      "source": [
        "# Задача 1.4"
      ],
      "metadata": {
        "id": "oBrrYDy8QQIc"
      }
    },
    {
      "cell_type": "code",
      "source": [
        "# Домашняя работа  1.4 \n",
        "# Здача \n",
        "# Рассчитайте на какую сумму лежит каждого товара на складе.\n",
        "#\n",
        "# Вывести суммарную стоимость каждого товара в магазине в формате:\n",
        "# \"<товар> - <кол-во> шт, стоимость <общая стоимость> руб\"\n",
        "\n",
        "# Пример: \"Кроссовки тип 3 (Adidas) - 31 шт, стоимость 50747 руб\"\n",
        "\n",
        "# Есть словарь кодов товаров titles\n",
        "\n",
        "titles = {\n",
        "    'Кроссовки тип 3 (Adidas)': '100000110',\n",
        "    'Мячик тип 2 (Adidas)': '100000146',\n",
        "    'Кепка тип 1 (Adidas)': '100000149',\n",
        "    'Ремень тип 2 (Nike)': '100000194',\n",
        "    'Футболка тип 1 (Adidas)': '100000224',\n",
        "    'Шапка тип 5 (Puma)': '100000280',\n",
        "}\n",
        "\n",
        "# Товары находятся на складе и сохранены в виде словаря списков словарей,\n",
        "# которые отражают количество товаров в магазине по каждому коду.\n",
        "\n",
        "store = {\n",
        "    '100000110': [{'quantity': 31, 'price': 1637}],\n",
        "    '100000146': [ {'quantity': 4, 'price': 45}, {'quantity': 10, 'price': 48}],\n",
        "    '100000149': [ {'quantity': 28, 'price': 279}, {'quantity': 32, 'price': 291}],\n",
        "    '100000194': [{'quantity': 8, 'price': 220}, {'quantity': 1, 'price': 170}],\n",
        "    '100000224': [{'quantity': 61, 'price': 438}, {'quantity': 23, 'price': 302},  {'quantity': 50, 'price': 412}],\n",
        "    '100000280': [{'quantity': 26, 'price': 175}, ]\n",
        "}\n",
        "\n",
        "total_value = {}\n",
        "for code, items in store.items():\n",
        "    total_value[code] = sum(item['quantity'] * item['price'] for item in items)\n",
        "\n",
        "# Выводим суммарную стоимость каждого товара в магазине\n",
        "for title, code in titles.items():\n",
        "    if code in store:\n",
        "        total_quantity = sum(item['quantity'] for item in store[code])\n",
        "        total_price = total_value[code]\n",
        "        print(f\"{title} - {total_quantity} шт, стоимость {total_price} руб\")"
      ],
      "metadata": {
        "colab": {
          "base_uri": "https://localhost:8080/"
        },
        "id": "pKIZnyKFUiwk",
        "outputId": "4118b9b3-9878-48d6-84a5-9cb9c4f8721d"
      },
      "execution_count": null,
      "outputs": [
        {
          "output_type": "stream",
          "name": "stdout",
          "text": [
            "Кроссовки тип 3 (Adidas) - 31 шт, стоимость 50747 руб\n",
            "Мячик тип 2 (Adidas) - 14 шт, стоимость 660 руб\n",
            "Кепка тип 1 (Adidas) - 60 шт, стоимость 17124 руб\n",
            "Ремень тип 2 (Nike) - 9 шт, стоимость 1930 руб\n",
            "Футболка тип 1 (Adidas) - 134 шт, стоимость 54264 руб\n",
            "Шапка тип 5 (Puma) - 26 шт, стоимость 4550 руб\n"
          ]
        }
      ]
    },
    {
      "cell_type": "markdown",
      "source": [
        "# Занятие 10.03.2023"
      ],
      "metadata": {
        "id": "deZkx0ydQVw2"
      }
    },
    {
      "cell_type": "markdown",
      "source": [],
      "metadata": {
        "id": "fbuMBQUMQcrV"
      }
    },
    {
      "cell_type": "markdown",
      "source": [],
      "metadata": {
        "id": "rvPyRmbLQeka"
      }
    },
    {
      "cell_type": "markdown",
      "source": [
        "\n",
        "# Задача 1\n",
        " Приведем список покупок в магазине\n",
        "\n",
        "shop_list = ['Картофель', 'Горошек', 'Рис', 'Хлеб']\n",
        "\n",
        " Измените список согласно пунктам задания\n",
        " Выведите результат каждого пункта на консоль по очереди\n",
        "\n",
        "   а. Вставьте рыбу между горошком и рисом\n",
        "\n",
        " Узнаем какие мкдоты есть у списков \n",
        "from pprint import pprint\n",
        "pprint(dir(shop_list))\n",
        "\n",
        "\n",
        "shop_list.insert(shop_list.index('Рис'),'Рыба')\n",
        "\n",
        " print(shop_list)\n",
        "\n",
        "\n",
        "\n",
        "   b. Добавьте фрукты из списка fruits в конец списка shop_list\n",
        " shop_list.append(fruits)\n",
        " print(shop_list)\n",
        " ['Картофель', 'Горошек', 'Рыба', 'Рис', 'Хлеб', ['Яблоко', 'Апельсин', 'Клубника']]\n",
        "\n",
        "fruits = ['Яблоко', 'Апельсин', 'Клубника']\n",
        "\n",
        "shop_list.extend(fruits)\n",
        " \n",
        "   c. Удалите из списка shop_list картофель\n",
        "\n",
        "\n",
        " shop_list.remove('Картофель')\n",
        "del_element = shop_list.pop(shop_list.index('Картофель'))\n",
        "print(del_element)\n",
        "print(shop_list)\n",
        "\n",
        "\n",
        " print(shop_list)\n",
        "\n",
        "\n",
        "\n",
        "   d. Какими по счету стоят хлеб и апельсин? Выведите номера на консоль в формат\n",
        "   Номер \"продукта\" в списке - N\n",
        "\n",
        "print(shop_list.index('Хлеб'), shop_list.index('Апельсин'), sep='\\n')\n",
        " "
      ],
      "metadata": {
        "id": "7CxpDcW1gLlZ"
      }
    },
    {
      "cell_type": "markdown",
      "source": [],
      "metadata": {
        "id": "36ymm_CkgNV_"
      }
    },
    {
      "cell_type": "markdown",
      "source": [
        "Кортеж"
      ],
      "metadata": {
        "id": "PiM4aPG0mG--"
      }
    },
    {
      "cell_type": "markdown",
      "source": [
        "primes = [1, 2, 3, 8, 10, 20]\n",
        "empty_lst = []\n",
        " \n",
        "empty_lst.append(primes)\n",
        "empty_lst.append(primes)\n",
        "empty_lst.append(primes)\n",
        " \n",
        "print(\n",
        "   empty_lst[1][7]\n",
        "   )\n",
        " \n",
        " [[1, 2, 3, 8, 10, 20], [1, 2, 3, 8, 10, 20], [1, 2, 3, 8, 10, 20]]\n",
        " \n",
        " \n",
        " empty_lst.append('Hello')\n",
        " print(empty_lst)\n",
        " \n",
        " empty_lst.append('Hola')\n",
        " print(empty_lst)\n",
        " \n",
        " empty_lst.append(primes)\n",
        " print(empty_lst)\n",
        " \n",
        " Сравнение кортежей и списков\n",
        "rainbow = ('Red', 'Green', 'Blue')  # кортеж - неизменяемый массив\n",
        "primes = [1, 2, 3, 8, 10, 20]  # список - изменяемый массив\n",
        " \n",
        " Проблема изменяемых объектов\n",
        "print(id(primes))\n",
        " \n",
        "new_lst = primes\n",
        " \n",
        "new_lst.append('BHISBBUISBCIASBCUIBASC')\n",
        " \n",
        "print(new_lst, primes, sep='\\n')\n",
        "print(id(primes) == id(new_lst))\n",
        " \n",
        " Зачем нужны неизменяемые кортежи tuple?\n",
        "x, y = 1, 2\n",
        " \n",
        "def func():\n",
        "    return 'Hello', 'World'\n",
        " \n",
        " Копии кортежей\n",
        "print(id(rainbow))\n",
        " \n",
        "new_tpl = rainbow\n",
        "new_tpl = new_tpl + ('Violet', 'Orange')\n",
        " \n",
        "print(new_tpl, rainbow, sep='\\n')\n",
        "print(id(new_tpl) == id(rainbow))"
      ],
      "metadata": {
        "id": "zmZTU26WmO-0"
      }
    },
    {
      "cell_type": "markdown",
      "source": [
        "#Как работает if elif"
      ],
      "metadata": {
        "id": "lEAkrmD2mV1X"
      }
    },
    {
      "cell_type": "markdown",
      "source": [
        "# Условный оператор if-elif-else\n",
        " \n",
        "Заданы размеры коробки box_x, box_y и товара product_x, product_y\n",
        " Определить, поместится ли товар в коробке (габариты товара параллельны размеру коробки)\n",
        " Результат проверки вывести на консоль (ДА/НЕТ)\n",
        " Использовать только операторы if/elif/else, можно вложенные\n",
        "box_x, box_y = 10, 7\n",
        "product_x, product_y = 8, 9\n",
        " \n",
        "проверить для\n",
        "product_x, product_y = 9, 8\n",
        "product_x, product_y = 8, 6\n",
        "product_x, product_y = 3, 4\n",
        "product_x, product_y = 11, 9\n",
        "product_x, product_y = 9, 11\n",
        " \n",
        "Раскомментируйте нужную строку\n",
        " \n",
        "Вариант 1\n",
        "if box_x >= product_x:\n",
        "    # print('По грани x входит')\n",
        "    if box_y >= product_y:\n",
        "        print('ДА')\n",
        "    else:\n",
        "        print('НЕТ')\n",
        "else:\n",
        "    print('НЕТ')\n",
        " \n",
        "Вариант 2\n",
        "if box_x >= product_x and box_y >= product_y:\n",
        "    print('Да')\n",
        "else:\n",
        "    print('Нет')\n",
        " \n",
        "Вариант 3\n",
        "print(True if box_x >= product_x and box_y >= product_y else False)\n",
        " "
      ],
      "metadata": {
        "id": "_dVFcMAVtsDu"
      }
    },
    {
      "cell_type": "markdown",
      "source": [],
      "metadata": {
        "id": "nnlr0zP6twAr"
      }
    },
    {
      "cell_type": "markdown",
      "source": [
        "# Последовательность Фибаначи \n",
        "\n",
        "\n",
        "# Операторы цикла \n",
        "# while\n",
        " \n",
        "# Последоватиельность Фибоначчи\n",
        "# №       1 2 3 4 5 6 7 ... 100\n",
        "# Число   1 1 2 3 5 8 13 ... ?\n",
        " \n",
        "fib1, fib2 = 1, 1\n",
        " \n",
        "search = input('Введите искомый номер последовательности: ')\n",
        "i = int(search) - 2\n",
        " \n",
        "while i > 0:\n",
        "    print(fib2)\n",
        "    fib1, fib2 = fib2, fib1 + fib2 \n",
        "    # print(f'Счетчик {i}')\n",
        "    i -= 1\n",
        " \n",
        "print(fib2)\n",
        " "
      ],
      "metadata": {
        "id": "-kbRIVj51LJe"
      }
    },
    {
      "cell_type": "markdown",
      "source": [
        "# Операторы цикла \n",
        "# for\n",
        " \n",
        "room_prices = [41, 94, 100, 7, 21, 92, 62, 49, 37, 17, ]\n",
        " \n",
        "# Через while\n",
        "# i = 0\n",
        "# while i < len(room_prices):\n",
        "#     print(room_prices[i])\n",
        "#     i += 1\n",
        " \n",
        "# через for\n",
        "for price in room_prices:\n",
        "    print(price)\n",
        " \n",
        "# for ind in range(len(room_prices)):\n",
        "#     print(room_prices[ind])\n",
        " \n",
        "# нужно найти всех сотрудников, \n",
        "# зарабатывающих по крайней мере 100 000 долларов в год ... отнять )\n",
        " \n",
        "employees = {\n",
        "    'Alice' : 100000,\n",
        "    'Bob' : 99817,\n",
        "    'Carol' : 122908,\n",
        "    'Frank' : 88123,\n",
        "    'Eve' : 93121\n",
        "    }\n",
        " \n",
        "# Вариант 1\n",
        "top_managers = []\n",
        "for name in employees.keys():\n",
        "    if employees[name] >= 100000:\n",
        "        top_managers.append(name)\n",
        " \n",
        "print(top_managers)\n",
        " \n",
        "# Вариант 2\n",
        "top_managers = [name for name, salary in employees.items() if salary >= 100000]\n",
        " \n",
        "print(top_managers)"
      ],
      "metadata": {
        "id": "HT_y7Qep9zlp"
      }
    },
    {
      "cell_type": "markdown",
      "source": [
        "# Функции \n",
        "\n",
        "принцип drv dont repeat yorsrlf\n",
        "создание функии  Def\n",
        "greeting() вызов функции\n",
        "# Принцип DRY - Dont repeat yourself\n",
        "# Создание функции\n",
        "def greeting(name):\n",
        "    print(f'Hello, {name}')\n",
        " \n",
        "# Вызов функции\n",
        "greeting('Mark')\n",
        " \n",
        "# Вызов функции с параметром\n",
        "for i in ['Mark', 'R2D2', 'Anakin', 'World']:\n",
        "    greeting(i)"
      ],
      "metadata": {
        "id": "g1EjuGtE5cZh"
      }
    },
    {
      "cell_type": "code",
      "source": [
        "# Принцип DRY - Dont repeat yourself\n",
        "# Создание функции\n",
        "def greeting(name):\n",
        "    print(f'Hello, {name}')\n",
        " \n",
        "# Вызов функции\n",
        "greeting('Mark')\n",
        " \n",
        "# Вызов функции с параметром\n",
        "for i in ['Mark', 'R2D2', 'Anakin', 'World']:\n",
        "    greeting(i)"
      ],
      "metadata": {
        "colab": {
          "base_uri": "https://localhost:8080/"
        },
        "id": "34FKNpYu9SjX",
        "outputId": "efecf3b0-accd-4c14-e1c3-621f979ef892"
      },
      "execution_count": null,
      "outputs": [
        {
          "output_type": "stream",
          "name": "stdout",
          "text": [
            "Hello, Mark\n",
            "Hello, Mark\n",
            "Hello, R2D2\n",
            "Hello, Anakin\n",
            "Hello, World\n"
          ]
        }
      ]
    },
    {
      "cell_type": "markdown",
      "source": [
        "Структура файла с клодом \n",
        "1 импорты \n",
        " import.....\n",
        "2 функции \n",
        "def ,,,()\n",
        "  print(//)\n",
        "\n",
        "3 код который содержит цикл или инициализацию \n",
        "\n",
        "\n"
      ],
      "metadata": {
        "id": "fvLy_Rtr9VjA"
      }
    },
    {
      "cell_type": "markdown",
      "source": [],
      "metadata": {
        "id": "DxP-QfsX4w76"
      }
    },
    {
      "cell_type": "markdown",
      "source": [
        "#Задача\n",
        "# нужно найти всех сотрудников, \n",
        "# зарабатывающих по крайней мере 100 000 долларов в год ... отнять )\n",
        " \n",
        "# Структура файла с кодом\n",
        "# 1 Импорты \n",
        "# import чото\n",
        " \n",
        "# 2 функции\n",
        "# def чото():\n",
        "#     print(чото)\n",
        " \n",
        "# 3 код который содержит цикл или инициализацию\n",
        " \n",
        "print('Start Debuging')\n",
        " \n",
        "def get_topmgrs_list(dct_report):\n",
        "    mgrs_list = []\n",
        "    for name in dct_report.keys():\n",
        "        if dct_report[name] >= 100000:\n",
        "            mgrs_list.append(name)\n",
        "    return mgrs_list\n",
        " \n",
        "employees = {\n",
        "    'Alice' : 100000,\n",
        "    'Bob' : 99817,\n",
        "    'Carol' : 122908,\n",
        "    'Frank' : 88123,\n",
        "    'Eve' : 93121\n",
        "    }\n",
        " \n",
        "top_managers = get_topmgrs_list(employees)\n",
        "print(top_managers)"
      ],
      "metadata": {
        "id": "3wMtoSiRIpul"
      }
    },
    {
      "cell_type": "code",
      "source": [
        "print('Start Debuging')\n",
        " \n",
        "def get_topmgrs_list(dct_report):\n",
        "    mgrs_list = []\n",
        "    for name in dct_report.keys():\n",
        "        if dct_report[name] >= 100000:\n",
        "            mgrs_list.append(name)\n",
        "    return mgrs_list\n",
        " \n",
        "employees = {\n",
        "    'Alice' : 100000,\n",
        "    'Bob' : 99817,\n",
        "    'Carol' : 122908,\n",
        "    'Frank' : 88123,\n",
        "    'Eve' : 93121\n",
        "    }\n",
        " \n",
        "top_managers = get_topmgrs_list(employees)\n",
        "print(top_managers)"
      ],
      "metadata": {
        "colab": {
          "base_uri": "https://localhost:8080/"
        },
        "id": "aNT54JcfIsv7",
        "outputId": "5202d220-3a91-4075-81c5-fa9ec2367d10"
      },
      "execution_count": null,
      "outputs": [
        {
          "output_type": "stream",
          "name": "stdout",
          "text": [
            "Start Debuging\n",
            "['Alice', 'Carol']\n"
          ]
        }
      ]
    },
    {
      "cell_type": "markdown",
      "source": [
        "#"
      ],
      "metadata": {
        "id": "JMqDjCJ3KVLi"
      }
    },
    {
      "cell_type": "code",
      "source": [
        "def remove_word_with_one_em(s):\n",
        "    words = s.split() # разделение строки на слова\n",
        "    result = []\n",
        "    for word in words:\n",
        "        if word.count('!') != 1: # проверка на наличие ровно одного восклицательного знака\n",
        "            result.append(word)\n",
        "    return ' '.join(result) # объединение оставшихся слов в строку\n",
        "print(remove_word_with_one_em(\"Hi!\"))"
      ],
      "metadata": {
        "colab": {
          "base_uri": "https://localhost:8080/"
        },
        "id": "s62JLidJ-rsN",
        "outputId": "0d76990c-65b1-4f3c-8924-7de790f4360e"
      },
      "execution_count": null,
      "outputs": [
        {
          "output_type": "stream",
          "name": "stdout",
          "text": [
            "\n"
          ]
        }
      ]
    },
    {
      "cell_type": "markdown",
      "source": [
        "#21.03.2023\n"
      ],
      "metadata": {
        "id": "HBDQM6Xu7KUG"
      }
    },
    {
      "cell_type": "markdown",
      "source": [],
      "metadata": {
        "id": "EYv9wuh6JfTx"
      }
    },
    {
      "cell_type": "markdown",
      "source": [],
      "metadata": {
        "id": "ZBjE5MrlJkHF"
      }
    },
    {
      "cell_type": "markdown",
      "source": [
        "Задача 2.1  "
      ],
      "metadata": {
        "id": "MOt61euNYsxB"
      }
    },
    {
      "cell_type": "code",
      "source": [],
      "metadata": {
        "id": "rPJ5UhX7b9gI"
      },
      "execution_count": null,
      "outputs": []
    },
    {
      "cell_type": "markdown",
      "source": [
        "# Домашняя работа 2 \n"
      ],
      "metadata": {
        "id": "vuJ5P4Nob1CV"
      }
    },
    {
      "cell_type": "code",
      "source": [
        "arr1 = [4,6,2,1,9,63,-134,566]\n",
        "def minimum(arr):\n",
        "    min_num = arr[0]\n",
        "    for num in arr:\n",
        "        if num < min_num:\n",
        "            min_num = num\n",
        "    return min_num\n",
        "\n",
        "def maximum(arr):\n",
        "    max_num = arr[0]\n",
        "    for num in arr:\n",
        "        if num > max_num:\n",
        "            max_num = num\n",
        "    return max_num\n",
        "print(\"min:\", minimum(arr1)) # -134\n",
        "print(\"max:\", maximum(arr1)) # 566\n",
        "\n"
      ],
      "metadata": {
        "colab": {
          "base_uri": "https://localhost:8080/"
        },
        "id": "Cwj8wat6Y5MP",
        "outputId": "5cc9d192-b871-4e42-c9a5-bbafc9842ba6"
      },
      "execution_count": 2,
      "outputs": [
        {
          "output_type": "stream",
          "name": "stdout",
          "text": [
            "min: -134\n",
            "max: 566\n"
          ]
        }
      ]
    },
    {
      "cell_type": "markdown",
      "source": [
        "задача 2.2"
      ],
      "metadata": {
        "id": "EZxOAsfuZFao"
      }
    },
    {
      "cell_type": "code",
      "source": [
        "def quarter_of(month):\n",
        "    if month in range(1, 4):\n",
        "        return 1\n",
        "    elif month in range(4, 7):\n",
        "        return 2\n",
        "    elif month in range(7, 10):\n",
        "        return 3\n",
        "    else:\n",
        "        return 4\n",
        "print(quarter_of(2)) # 1\n",
        "print(quarter_of(6)) # 2\n",
        "print(quarter_of(11)) # 4\n",
        "print(quarter_of(13)) # None\n"
      ],
      "metadata": {
        "colab": {
          "base_uri": "https://localhost:8080/"
        },
        "id": "WK0LqskXZXYy",
        "outputId": "4e45f724-6eb1-45fe-cf35-53d097e59f8f"
      },
      "execution_count": 3,
      "outputs": [
        {
          "output_type": "stream",
          "name": "stdout",
          "text": [
            "1\n",
            "2\n",
            "4\n",
            "4\n"
          ]
        }
      ]
    },
    {
      "cell_type": "markdown",
      "source": [
        "задача 2.3"
      ],
      "metadata": {
        "id": "jdUEjNb0ZfPz"
      }
    },
    {
      "cell_type": "code",
      "source": [
        "def switch_it_up(number):\n",
        "    numbers_to_words = {\n",
        "        0: 'Zero',\n",
        "        1: 'One',\n",
        "        2: 'Two',\n",
        "        3: 'Three',\n",
        "        4: 'Four',\n",
        "        5: 'Five',\n",
        "        6: 'Six',\n",
        "        7: 'Seven',\n",
        "        8: 'Eight',\n",
        "        9: 'Nine'\n",
        "    }\n",
        "    return numbers_to_words.get(number)\n",
        "print(switch_it_up(1)) \n",
        "print(switch_it_up(3)) \n",
        "print(switch_it_up(7)) \n",
        "print(switch_it_up(10)) \n"
      ],
      "metadata": {
        "colab": {
          "base_uri": "https://localhost:8080/"
        },
        "id": "UqJkjImvZhed",
        "outputId": "646d22ea-e451-4636-c093-0e296c5d3bb5"
      },
      "execution_count": 4,
      "outputs": [
        {
          "output_type": "stream",
          "name": "stdout",
          "text": [
            "One\n",
            "Three\n",
            "Seven\n",
            "None\n"
          ]
        }
      ]
    },
    {
      "cell_type": "markdown",
      "source": [],
      "metadata": {
        "id": "ASBjriT7Y0kL"
      }
    },
    {
      "cell_type": "markdown",
      "source": [
        "задача 2.4"
      ],
      "metadata": {
        "id": "40qFKs8dZ617"
      }
    },
    {
      "cell_type": "code",
      "source": [
        "# Пункт A\n",
        "def remove_exclamation_marks(s):\n",
        "    return s.replace(\"!\", \"\")\n",
        "\n",
        "# Пункт B\n",
        "def remove_last_em(s):\n",
        "    if s.endswith(\"!\"):\n",
        "        return s[:-1]\n",
        "    else:\n",
        "        return s\n",
        "\n",
        "# Пункт С\n",
        "def remove_word_with_one_em(s):\n",
        "    words = s.split()\n",
        "    result_words = []\n",
        "    for word in words:\n",
        "        if word.count(\"!\") != 1:\n",
        "            result_words.append(word)\n",
        "    return \" \".join(result_words)\n"
      ],
      "metadata": {
        "id": "ibGvrMAnZ9e2"
      },
      "execution_count": 5,
      "outputs": []
    },
    {
      "cell_type": "code",
      "source": [
        "# Пункт A\n",
        "def remove_exclamation_marks(s):\n",
        "    return s.replace(\"!\", \"\")\n",
        "print(remove_exclamation_marks(\"Hi! Hello!\")) # \"Hi Hello\"\n",
        "print(remove_exclamation_marks(\"\")) # \"\"\n",
        "print(remove_exclamation_marks(\"Oh, no!!!\")) # \"Oh, no\""
      ],
      "metadata": {
        "colab": {
          "base_uri": "https://localhost:8080/"
        },
        "id": "lhNDzzmUbL6I",
        "outputId": "18fffdfb-c59a-42fb-c9b0-02a2fdec4b12"
      },
      "execution_count": 6,
      "outputs": [
        {
          "output_type": "stream",
          "name": "stdout",
          "text": [
            "Hi Hello\n",
            "\n",
            "Oh, no\n"
          ]
        }
      ]
    },
    {
      "cell_type": "code",
      "source": [
        "# Пункт B\n",
        "def remove_last_em(s):\n",
        "    if s.endswith(\"!\"):\n",
        "        return s[:-1]\n",
        "    else:\n",
        "        return s\n",
        "print(remove_last_em(\"Hi!\")) # \"Hi\"\n",
        "print(remove_last_em(\"Hi!!!\")) # \"Hi!!\"\n",
        "print(remove_last_em(\"!Hi\")) # \"!Hi\""
      ],
      "metadata": {
        "colab": {
          "base_uri": "https://localhost:8080/"
        },
        "id": "FhH9bwQzbGM-",
        "outputId": "54ce65d5-3e44-4225-8ba8-548b53eb9641"
      },
      "execution_count": 7,
      "outputs": [
        {
          "output_type": "stream",
          "name": "stdout",
          "text": [
            "Hi\n",
            "Hi!!\n",
            "!Hi\n"
          ]
        }
      ]
    },
    {
      "cell_type": "code",
      "source": [
        "# Пункт С\n",
        "def remove_word_with_one_em(s):\n",
        "    words = s.split()\n",
        "    result_words = []\n",
        "    for word in words:\n",
        "        if word.count(\"!\") != 1:\n",
        "            result_words.append(word)\n",
        "    return \" \".join(result_words)\n",
        "print(remove_word_with_one_em(\"Hi!\")) # \"\"\n",
        "print(remove_word_with_one_em(\"Hi! Hi!\")) # \"\"\n",
        "print(remove_word_with_one_em(\"Hi! Hi! Hi!\")) # \"\"\n",
        "print(remove_word_with_one_em(\"Hi Hi! Hi!\")) # \"Hi\"\n",
        "print(remove_word_with_one_em(\"Hi! !Hi Hi!\")) # \"\"\n",
        "print(remove_word_with_one_em(\"Hi! Hi!! Hi!\")) # \"Hi!!\"\n",
        "print(remove_word_with_one_em(\"Hi! !Hi! Hi!\")) # \"!Hi!\""
      ],
      "metadata": {
        "colab": {
          "base_uri": "https://localhost:8080/"
        },
        "id": "7ddIMGwCbITu",
        "outputId": "42397e22-7e8c-466b-ef15-70de30a56273"
      },
      "execution_count": 8,
      "outputs": [
        {
          "output_type": "stream",
          "name": "stdout",
          "text": [
            "\n",
            "\n",
            "\n",
            "Hi\n",
            "\n",
            "Hi!!\n",
            "!Hi!\n"
          ]
        }
      ]
    },
    {
      "cell_type": "markdown",
      "source": [
        "пример что выводит "
      ],
      "metadata": {
        "id": "BqoJislLbQjm"
      }
    },
    {
      "cell_type": "code",
      "source": [
        "print(remove_exclamation_marks(\"Hi! Hello!\")) # \"Hi Hello\"\n",
        "print(remove_exclamation_marks(\"\")) # \"\"\n",
        "print(remove_exclamation_marks(\"Oh, no!!!\")) # \"Oh, no\"\n",
        "\n",
        "print(remove_last_em(\"Hi!\")) # \"Hi\"\n",
        "print(remove_last_em(\"Hi!!!\")) # \"Hi!!\"\n",
        "print(remove_last_em(\"!Hi\")) # \"!Hi\"\n",
        "\n",
        "print(remove_word_with_one_em(\"Hi!\")) # \"\"\n",
        "print(remove_word_with_one_em(\"Hi! Hi!\")) # \"\"\n",
        "print(remove_word_with_one_em(\"Hi! Hi! Hi!\")) # \"\"\n",
        "print(remove_word_with_one_em(\"Hi Hi! Hi!\")) # \"Hi\"\n",
        "print(remove_word_with_one_em(\"Hi! !Hi Hi!\")) # \"\"\n",
        "print(remove_word_with_one_em(\"Hi! Hi!! Hi!\")) # \"Hi!!\"\n",
        "print(remove_word_with_one_em(\"Hi! !Hi! Hi!\")) # \"!Hi!\""
      ],
      "metadata": {
        "id": "eiOxDatYbPzM"
      },
      "execution_count": null,
      "outputs": []
    },
    {
      "cell_type": "markdown",
      "source": [
        "заметка \n",
        "\n",
        "Функция remove_exclamation_marks использует метод replace для\n",
        "\n",
        "Функция remove_last_em используетendswith для\n",
        "\n",
        "Фуункция remove_word_with_one_em разбивает сsplit, затем создает новый списfiltered_words, содержащий только те слова, которые не содержатjoin."
      ],
      "metadata": {
        "id": "dRnTWbhObYlG"
      }
    }
  ]
}