{
  "nbformat": 4,
  "nbformat_minor": 0,
  "metadata": {
    "colab": {
      "provenance": [],
      "toc_visible": true,
      "mount_file_id": "1rYexcPcN_yuw6Il6X4aWOC0x7LFvE8dp",
      "authorship_tag": "ABX9TyONIZVXPBD3O7kjxEKllLAr",
      "include_colab_link": true
    },
    "kernelspec": {
      "name": "python3",
      "display_name": "Python 3"
    },
    "language_info": {
      "name": "python"
    }
  },
  "cells": [
    {
      "cell_type": "markdown",
      "metadata": {
        "id": "view-in-github",
        "colab_type": "text"
      },
      "source": [
        "<a href=\"https://colab.research.google.com/github/JonZmei/-project_01/blob/main/%D0%9A%D0%BE%D0%BF%D0%B8%D1%8F_%D0%B1%D0%BB%D0%BE%D0%BA%D0%BD%D0%BE%D1%82%D0%B0_%22%D0%A3%D1%80%D0%BE%D0%BA_%D0%BF%D0%BE_%D0%BF%D0%B0%D0%B9%D1%82%D0%B0%D0%BD%D1%83_6_%D0%BC%D0%B0%D1%80%D1%82%D0%B0_2023_ipynb%20c%20%D0%B4%D0%BE%D0%BC%D0%B0%D1%88%D0%BD%D0%B8%D0%BC%D0%B8%20%D1%80%D0%B0%D0%B1%D0%BE%D1%82%D0%B0%D0%BC%D0%B8%201%202%203%204%20%22.ipynb\" target=\"_parent\"><img src=\"https://colab.research.google.com/assets/colab-badge.svg\" alt=\"Open In Colab\"/></a>"
      ]
    },
    {
      "cell_type": "markdown",
      "source": [
        "# Типы данных в Python \n",
        "* int целое число \n",
        "* (2//2) = 1.0\n",
        "* float десетичное число \n",
        "\n",
        "### Где писать пробелы ?\n",
        "* между элементами внутри скобок [1.2.3.4.]\n",
        "* после кадого знака\n",
        "+,-,*,/,= и,т,д <br>\n",
        "\n",
        "**НО** не ставте пробел между именем функции и скобочками !!\n",
        "\n",
        "# True \n",
        "* 2==2 \n",
        "# остаток от деления %\n",
        "* 10/3    = 1\n",
        "# операция сравнения == <.> \n",
        "2==2\n",
        "# степень\n",
        "2**1000\n",
        "#  С помощью = переменной можно присвоить значение \n",
        "# х=100\n",
        "# Можно определить сразу несколько переменных \n",
        "# x , y = 400 , 1\n",
        "# print (выводится на экран то что в скобочках \n",
        "# складывать и вычитать flot и int  можно\n",
        "# int целое число \n",
        "# float дробное число \n",
        "# round(12.5) округление к ближайшему четному числу \n",
        "# ~ инвертация \n",
        "\n",
        "# Функции  - инструменты по обработке данных \n",
        "*print()\n",
        "*trpe (9)\n",
        "*round(1.222 , 2)\n",
        "*int(2.3)\n",
        "*float(90)"
      ],
      "metadata": {
        "id": "yfmW3cVwr01u"
      }
    },
    {
      "cell_type": "markdown",
      "source": [
        "Переменные - язык "
      ],
      "metadata": {
        "id": "lL6PRjWW5VF7"
      }
    },
    {
      "cell_type": "code",
      "source": [
        "# кондр\n",
        "# слеш\n",
        "# это \n",
        "# коментарии"
      ],
      "metadata": {
        "id": "xUSD70hPw4nu"
      },
      "execution_count": null,
      "outputs": []
    },
    {
      "cell_type": "code",
      "source": [
        "2*2\n"
      ],
      "metadata": {
        "colab": {
          "base_uri": "https://localhost:8080/"
        },
        "id": "-1foR8gnsI2U",
        "outputId": "082b82cc-dad3-4873-ddac-d921decf5c7e"
      },
      "execution_count": null,
      "outputs": [
        {
          "output_type": "execute_result",
          "data": {
            "text/plain": [
              "4"
            ]
          },
          "metadata": {},
          "execution_count": 3
        }
      ]
    },
    {
      "cell_type": "code",
      "source": [
        "2+2*3"
      ],
      "metadata": {
        "colab": {
          "base_uri": "https://localhost:8080/"
        },
        "id": "ATiVHIZ4uSi6",
        "outputId": "1fd72754-1752-48ef-da11-b802b4a1f031"
      },
      "execution_count": null,
      "outputs": [
        {
          "output_type": "execute_result",
          "data": {
            "text/plain": [
              "8"
            ]
          },
          "metadata": {},
          "execution_count": 4
        }
      ]
    },
    {
      "cell_type": "code",
      "source": [
        "2//2\n"
      ],
      "metadata": {
        "colab": {
          "base_uri": "https://localhost:8080/"
        },
        "id": "AIHV2p0rvYhx",
        "outputId": "10ebffc0-9e15-4e51-be9e-75e1bee69dfe"
      },
      "execution_count": null,
      "outputs": [
        {
          "output_type": "execute_result",
          "data": {
            "text/plain": [
              "1"
            ]
          },
          "metadata": {},
          "execution_count": 10
        }
      ]
    },
    {
      "cell_type": "code",
      "source": [
        "# % остаток от деления \n",
        "10%3"
      ],
      "metadata": {
        "colab": {
          "base_uri": "https://localhost:8080/"
        },
        "id": "nAuop5jPv_Cv",
        "outputId": "d2eece32-9fe8-488f-d455-dab1a9d34800"
      },
      "execution_count": null,
      "outputs": [
        {
          "output_type": "execute_result",
          "data": {
            "text/plain": [
              "1"
            ]
          },
          "metadata": {},
          "execution_count": 14
        }
      ]
    },
    {
      "cell_type": "code",
      "source": [
        "( 30 - 60 ) / 22 + (( 20 // 2) * 10 + 5)"
      ],
      "metadata": {
        "colab": {
          "base_uri": "https://localhost:8080/"
        },
        "id": "y90j3drwuUop",
        "outputId": "e7124400-8858-425c-86f8-b12b2c759e89"
      },
      "execution_count": null,
      "outputs": [
        {
          "output_type": "execute_result",
          "data": {
            "text/plain": [
              "103.63636363636364"
            ]
          },
          "metadata": {},
          "execution_count": 9
        }
      ]
    },
    {
      "cell_type": "code",
      "source": [
        "def nenorm(x,y):\n",
        "  res=x*y//2\n",
        "  return res\n",
        "\n",
        "def norm(x,y):\n",
        "  res=x*y//2\n",
        "  return res\n",
        "  "
      ],
      "metadata": {
        "id": "t6-atJyKukIb"
      },
      "execution_count": null,
      "outputs": []
    },
    {
      "cell_type": "code",
      "source": [
        "# степень\n",
        "2**1000\n"
      ],
      "metadata": {
        "colab": {
          "base_uri": "https://localhost:8080/"
        },
        "id": "ku1R4UL5w-2M",
        "outputId": "66197454-c237-4f32-89be-3461c900cd6a"
      },
      "execution_count": null,
      "outputs": [
        {
          "output_type": "execute_result",
          "data": {
            "text/plain": [
              "10715086071862673209484250490600018105614048117055336074437503883703510511249361224931983788156958581275946729175531468251871452856923140435984577574698574803934567774824230985421074605062371141877954182153046474983581941267398767559165543946077062914571196477686542167660429831652624386837205668069376"
            ]
          },
          "metadata": {},
          "execution_count": 17
        }
      ]
    },
    {
      "cell_type": "code",
      "source": [
        "# операция сравнения == <.> \n",
        "2==2"
      ],
      "metadata": {
        "colab": {
          "base_uri": "https://localhost:8080/"
        },
        "id": "i3q10_7lxNkF",
        "outputId": "9955d2ff-b437-4ad3-f63f-a52f41d084b4"
      },
      "execution_count": null,
      "outputs": [
        {
          "output_type": "execute_result",
          "data": {
            "text/plain": [
              "True"
            ]
          },
          "metadata": {},
          "execution_count": 19
        }
      ]
    },
    {
      "cell_type": "code",
      "source": [
        "print(2+2)\n",
        "print(2//2)\n",
        "22*22"
      ],
      "metadata": {
        "colab": {
          "base_uri": "https://localhost:8080/"
        },
        "id": "GNxMua2MytNt",
        "outputId": "0066c59b-df64-401d-9682-8ffccae06936"
      },
      "execution_count": null,
      "outputs": [
        {
          "output_type": "stream",
          "name": "stdout",
          "text": [
            "4\n",
            "1\n"
          ]
        },
        {
          "output_type": "execute_result",
          "data": {
            "text/plain": [
              "484"
            ]
          },
          "metadata": {},
          "execution_count": 20
        }
      ]
    },
    {
      "cell_type": "code",
      "source": [
        "print(int(21) + float(21) * 0)"
      ],
      "metadata": {
        "id": "yOcPUp6VzsrK",
        "colab": {
          "base_uri": "https://localhost:8080/"
        },
        "outputId": "a63c4ace-97c3-45e0-a711-c949d8bc42cf"
      },
      "execution_count": 1,
      "outputs": [
        {
          "output_type": "stream",
          "name": "stdout",
          "text": [
            "21.0\n"
          ]
        }
      ]
    },
    {
      "cell_type": "code",
      "source": [
        "round(12.5)"
      ],
      "metadata": {
        "colab": {
          "base_uri": "https://localhost:8080/"
        },
        "id": "xnYvsa4R1gYe",
        "outputId": "b8ae9b04-a8e5-4843-94fa-54d59f63c4a8"
      },
      "execution_count": 6,
      "outputs": [
        {
          "output_type": "execute_result",
          "data": {
            "text/plain": [
              "12"
            ]
          },
          "metadata": {},
          "execution_count": 6
        }
      ]
    },
    {
      "cell_type": "code",
      "source": [
        "print(30.0//3)"
      ],
      "metadata": {
        "colab": {
          "base_uri": "https://localhost:8080/"
        },
        "id": "w75JUsQ014-m",
        "outputId": "64e42e98-3323-48c4-a972-5d1363a8632b"
      },
      "execution_count": 7,
      "outputs": [
        {
          "output_type": "stream",
          "name": "stdout",
          "text": [
            "10.0\n"
          ]
        }
      ]
    },
    {
      "cell_type": "code",
      "source": [
        "n = 5 \n",
        "\n",
        "~n == -( n + 1 )"
      ],
      "metadata": {
        "colab": {
          "base_uri": "https://localhost:8080/"
        },
        "id": "YU-dzeos3oVQ",
        "outputId": "2dfc26a0-761b-43fc-b36f-82ccfd60884d"
      },
      "execution_count": 8,
      "outputs": [
        {
          "output_type": "execute_result",
          "data": {
            "text/plain": [
              "True"
            ]
          },
          "metadata": {},
          "execution_count": 8
        }
      ]
    },
    {
      "cell_type": "code",
      "source": [],
      "metadata": {
        "id": "CJ3iWHfy3yAv"
      },
      "execution_count": null,
      "outputs": []
    },
    {
      "cell_type": "markdown",
      "source": [
        "# Операции со списками \n",
        "# primes = [2, 3, 5, 7, 11, 13]\n",
        "Список – это последовательность элементов, пронумерованных от 0, как\n",
        "символы в строке\n",
        "# rainbow = ['red', 'green', 'blue']\n",
        "Список может хранить любые типы объектов\n",
        "rainbow = ['red', 62, 2.3]\n",
        "Даже в перемешку\n",
        "# rainbow = ['red', x, y]\n",
        "Список может содержать переменные. Однако при выводе списка\n",
        "появится содержимое этих переменных\n",
        "# chars = list('Hello')\n",
        "['H', 'e', 'l', 'l', 'o']\n",
        "Функция list() превращает записанное слово в набор символов.\n",
        "\n",
        "# Вывод элемента со списка \n",
        "rainbow[2]\n",
        "2.3\n",
        "Нумерация в списке начинается с 0\n",
        "#primes[-1]\n",
        "13\n",
        "Выдан элемент списка с конца\n",
        "#primes[3:6]\n",
        "[7, 11, 13]\n",
        "Аналогичны операциям со строками\n",
        "#primes[::2]\n",
        "[2, 5, 11]\n",
        "Аналогичны операциям со строками\n",
        "#primes[::-1]\n",
        "[13, 11, 7, 5, 3, 2]\n",
        "Позволяет перевернуть список\n",
        "#len(primes)\n",
        "6\n",
        "С помощью len можно вывести количество элементов\n",
        "#primes.append(15)\n",
        "функция append() добавляет к списку один объект с конца. Объект может\n",
        "быть любым\n",
        "#rainbow.append([21])\n",
        "['red', 'green', 'blue', [21]]\n",
        "Метод append() не расширяет список элемента, а только добавляет объект\n",
        "в конце.\n",
        "# rain_2 = rainbow.append('sky')\n",
        "Что будет если вывести print(rain_2)?"
      ],
      "metadata": {
        "id": "_2FO-8Df2ng9"
      }
    },
    {
      "cell_type": "markdown",
      "source": [
        "# Домашнее задание 1.1 \n",
        "# Здесь мы использовали индексы, чтобы извлечь нужные части строки my_favorite_songs. Для первого трека мы использовали индексы 0:15, чтобы извлечь первые 15 символов строки (то есть название первой песни). Для последнего трека мы использовали индексы -18:, чтобы извлечь последние 18 символов строки (то есть название последней песни)"
      ],
      "metadata": {
        "id": "r8D1zMDs79I0"
      }
    },
    {
      "cell_type": "code",
      "source": [
        "my_favorite_songs = \"Stairway to Heaven, Hotel California, Imagine, Hey Jude, Comfortably Numb\"\n",
        "\n",
        "# первый трек\n",
        "print(my_favorite_songs[:18])\n",
        "\n",
        "# последний трек\n",
        "print(my_favorite_songs[39:])\n",
        "\n",
        "# второй трек\n",
        "print(my_favorite_songs[21:38])\n",
        "\n",
        "# второй с конца трек\n",
        "print(my_favorite_songs[-22:-5])"
      ],
      "metadata": {
        "colab": {
          "base_uri": "https://localhost:8080/"
        },
        "id": "TDMkl_D68DJN",
        "outputId": "b9ca6be6-3837-4f87-ee33-f4b8d02de661"
      },
      "execution_count": 9,
      "outputs": [
        {
          "output_type": "stream",
          "name": "stdout",
          "text": [
            "Stairway to Heaven\n",
            "magine, Hey Jude, Comfortably Numb\n",
            "otel California, \n",
            "Jude, Comfortably\n"
          ]
        }
      ]
    },
    {
      "cell_type": "markdown",
      "source": [
        "# Или "
      ],
      "metadata": {
        "id": "zsgPcUtU9coI"
      }
    },
    {
      "cell_type": "code",
      "source": [
        "my_favorite_songs = \"Stairway to Heaven, Imagine, Smells Like Teen Spirit, Bohemian Rhapsody, Hotel California\"\n",
        "\n",
        "# первый трек\n",
        "print(my_favorite_songs[:18])\n",
        "\n",
        "# последний трек\n",
        "print(my_favorite_songs[-16:])\n",
        "\n",
        "# второй трек\n",
        "second_track_start = my_favorite_songs.index(\", \") + 2\n",
        "second_track_end = my_favorite_songs.index(\", \", second_track_start)\n",
        "print(my_favorite_songs[second_track_start:second_track_end])\n",
        "\n",
        "# второй с конца трек\n",
        "penultimate_track_end = my_favorite_songs.rindex(\", \")\n",
        "penultimate_track_start = my_favorite_songs.rindex(\", \", 0, penultimate_track_end) + 2\n",
        "print(my_favorite_songs[penultimate_track_start:penultimate_track_end])\n"
      ],
      "metadata": {
        "colab": {
          "base_uri": "https://localhost:8080/"
        },
        "id": "XTkJZ_VN9GwD",
        "outputId": "33632001-d373-4f50-d412-82218312304e"
      },
      "execution_count": 10,
      "outputs": [
        {
          "output_type": "stream",
          "name": "stdout",
          "text": [
            "Stairway to Heaven\n",
            "Hotel California\n",
            "Imagine\n",
            "Bohemian Rhapsody\n"
          ]
        }
      ]
    },
    {
      "cell_type": "markdown",
      "source": [
        "# Домашнее задание 1.2\n",
        "# # Задача 1.2.\n",
        "\n",
        "# Пункт A. \n",
        "# Приведем плейлист песен в виде списка списков\n",
        "# Список my_favorite_songs содержит список названий и длительности каждого трека\n",
        "# Выведите общее время звучания трех случайных песен в формате\n",
        "# Три песни звучат ХХХ минут\n",
        "\n",
        "= мои любимые песни [\n",
        " [\"Потеряй мгновение\", 3.03],\n",
        " [\"Новое спасение\", 4.02],\n",
        " [\"Остаться в живых\", 3.40],\n",
        " [\"Вне связи\", 3.03],\n",
        " [\"Своего рода сказка\", 5.28],\n",
        " [\"Легко\", 4.15],\n",
        " [\"Прекрасный день\", 4.04],\n",
        " [\"Некуда бежать\", 2.58],\n",
        " [\"В этом мире\", 4.02],\n",
        "]"
      ],
      "metadata": {
        "id": "aGAIn5AH8Xo-"
      }
    },
    {
      "cell_type": "code",
      "source": [
        "import random\n",
        "import datetime\n",
        "\n",
        "my_favorite_songs = [\n",
        "    [\"Потеряй мгновение\", 3.03],\n",
        "    [\"Новое спасение\", 4.02],\n",
        "    [\"Остаться в живых\", 3.40],\n",
        "    [\"Вне связи\", 3.03],\n",
        "    [\"Своего рода сказка\", 5.28],\n",
        "    [\"Легко\", 4.15],\n",
        "    [\"Прекрасный день\", 4.04],\n",
        "    [\"Некуда бежать\", 2.58],\n",
        "    [\"В этом мире\", 4.02]\n",
        "]\n",
        "\n",
        "# Выберем три случайные песни из списка\n",
        "random_songs = random.sample(my_favorite_songs, 3)\n",
        "\n",
        "# Посчитаем общее время звучания трех песен\n",
        "total_time = sum(song[1] for song in random_songs)\n",
        "\n",
        "# Выведем результат на экран\n",
        "print(f\"Три песни звучат {total_time:.0f} минут\")\n"
      ],
      "metadata": {
        "colab": {
          "base_uri": "https://localhost:8080/"
        },
        "id": "LQBZXXfR-3m7",
        "outputId": "f94657b3-870d-4e2e-ef12-342b00459de0"
      },
      "execution_count": 21,
      "outputs": [
        {
          "output_type": "stream",
          "name": "stdout",
          "text": [
            "Три песни звучат 11 минут\n"
          ]
        }
      ]
    },
    {
      "cell_type": "markdown",
      "source": [
        "## Пункт B. \n",
        "# Есть словарь песен \n",
        "# Распечатайте общее время звучания трех случайных песен\n",
        "# Вывод: Три песни звучат ХХХ минут.\n",
        "\n",
        "= my_favorite_songs_dict {\n",
        "    \"Потеряй минутку\": 3.03,\n",
        "    \"Новое спасение\": 4.02,\n",
        "    \"Остаться в живых\": 3.40,\n",
        "    \"Вне связи\": 3.03,\n",
        "    \"Своего рода сказка\": 5.28,\n",
        "    \"Легко\": 4.15,\n",
        "    \"Прекрасный день\": 4.04,\n",
        "    \"Некуда бежать\": 2.58,\n",
        "    \"В этом мире\": 4.02,\n",
        "}\n"
      ],
      "metadata": {
        "id": "dOdw9q99_MOe"
      }
    },
    {
      "cell_type": "code",
      "source": [
        "import random\n",
        "import datetime\n",
        "\n",
        "my_favorite_songs_dict = {\n",
        "    \"Потеряй минутку\": 3.03, \n",
        "    \"Новое спасение\": 4.02, \n",
        "    \"Остаться в живых\": 3.40, \n",
        "    \"Вне связи\": 3.03, \n",
        "    \"Своего рода сказка\": 5.28, \n",
        "    \"Легко\": 4.15, \n",
        "    \"Прекрасный день\": 4.04, \n",
        "    \"Некуда бежать\": 2.58, \n",
        "    \"В этом мире\": 4.02,\n",
        "}\n",
        "\n",
        "# Генерация трех случайных песен\n",
        "random_songs = random.sample(list(my_favorite_songs_dict.keys()), 3)\n",
        "\n",
        "# Подсчет общего времени звучания\n",
        "total_time = sum([my_favorite_songs_dict[song] for song in random_songs])\n",
        "\n",
        "# Перевод общего времени в формат времени\n",
        "total_time_formatted = str(datetime.timedelta(minutes=total_time))\n",
        "\n",
        "print(\"Три песни звучат {} минут.\".format(total_time_formatted))"
      ],
      "metadata": {
        "colab": {
          "base_uri": "https://localhost:8080/"
        },
        "id": "JM7jcLzO_RQX",
        "outputId": "7b925a58-9c7e-4876-e25b-e4eed1f02318"
      },
      "execution_count": 26,
      "outputs": [
        {
          "output_type": "stream",
          "name": "stdout",
          "text": [
            "Три песни звучат 0:13:20.400000 минут.\n"
          ]
        }
      ]
    },
    {
      "cell_type": "markdown",
      "source": [
        "# Дополнительно для пунктов A и B\n",
        "# Пункт C.\n",
        "# Сгенерируйте случайные песни с помощью модуля random\n",
        "# импортировать случайным образом\n",
        "\n",
        "# Дополнительно \n",
        "# Пункт D.\n",
        "# Переведите минуты и секунды в формат времени. Используйте модуль datetime \n"
      ],
      "metadata": {
        "id": "lOk9Wa1tDU0d"
      }
    },
    {
      "cell_type": "markdown",
      "source": [
        "# Задача 1.3.\n",
        "# Напишите скрипт, который принимает от пользователя номер месяца, \n",
        "# а возвращает количество дней в нем.\n",
        "# Результат проверки вывести на консоль\n",
        "# Допущение: в феврале 28 дней\n",
        "# Если номер месяца некорректен - сообщить об этом\n",
        "\n",
        "# Например,\n",
        "    # Введите номер месяца: 3\n",
        "    # Вы ввели март. 31 дней\n",
        "\n",
        "    # Введите номер месяца: 2\n",
        "    # Вы ввели февраль. 28 дней\n",
        "\n",
        "    # Введите номер месяца: 15\n",
        "    # Такого месяца нет!"
      ],
      "metadata": {
        "id": "NuBSJaWsEtiG"
      }
    },
    {
      "cell_type": "code",
      "source": [
        "month_days = {\n",
        "    1: 31,\n",
        "    2: 28,\n",
        "    3: 31,\n",
        "    4: 30,\n",
        "    5: 31,\n",
        "    6: 30,\n",
        "    7: 31,\n",
        "    8: 31,\n",
        "    9: 30,\n",
        "    10: 31,\n",
        "    11: 30,\n",
        "    12: 31\n",
        "}\n",
        "\n",
        "month_names = {\n",
        "    'январь': 1,\n",
        "    'февраль': 2,\n",
        "    'март': 3,\n",
        "    'апрель': 4,\n",
        "    'май': 5,\n",
        "    'июнь': 6,\n",
        "    'июль': 7,\n",
        "    'август': 8,\n",
        "    'сентябрь': 9,\n",
        "    'октябрь': 10,\n",
        "    'ноябрь': 11,\n",
        "    'декабрь': 12\n",
        "}\n",
        "\n",
        "month_input = input(\"Введите номер месяца или название месяца на русском языке: \")\n",
        "if month_input.isdigit():\n",
        "    month_number = int(month_input)\n",
        "    if month_number in month_days:\n",
        "        days = month_days[month_number]\n",
        "        month_name = {\n",
        "            1: 'январь',\n",
        "            2: 'февраль',\n",
        "            3: 'март',\n",
        "            4: 'апрель',\n",
        "            5: 'май',\n",
        "            6: 'июнь',\n",
        "            7: 'июль',\n",
        "            8: 'август',\n",
        "            9: 'сентябрь',\n",
        "            10: 'октябрь',\n",
        "            11: 'ноябрь',\n",
        "            12: 'декабрь'\n",
        "        }[month_number]\n",
        "        print(f\"Вы ввели {month_name}. {days} дней\")\n",
        "    else:\n",
        "        print(\"Такого месяца нет!\")\n",
        "elif month_input in month_names:\n",
        "    month_number = month_names[month_input]\n",
        "    days = month_days[month_number]\n",
        "    print(f\"Вы ввели {month_input}. {days} дней\")\n",
        "else:\n",
        "    print(\"Неверный формат ввода!\")\n"
      ],
      "metadata": {
        "colab": {
          "base_uri": "https://localhost:8080/"
        },
        "id": "2RwazKMCEyE8",
        "outputId": "539cddb9-3fd1-43bb-df50-8481a31a269b"
      },
      "execution_count": 27,
      "outputs": [
        {
          "output_type": "stream",
          "name": "stdout",
          "text": [
            "Введите номер месяца или название месяца на русском языке: 3\n",
            "Вы ввели март. 31 дней\n"
          ]
        }
      ]
    },
    {
      "cell_type": "code",
      "source": [
        "# Домашняя работа  1.4 \n",
        "# Здача \n",
        "# Рассчитайте на какую сумму лежит каждого товара на складе.\n",
        "#\n",
        "# Вывести суммарную стоимость каждого товара в магазине в формате:\n",
        "# \"<товар> - <кол-во> шт, стоимость <общая стоимость> руб\"\n",
        "\n",
        "# Пример: \"Кроссовки тип 3 (Adidas) - 31 шт, стоимость 50747 руб\"\n",
        "\n",
        "# Есть словарь кодов товаров titles\n",
        "\n",
        "titles = {\n",
        "    'Кроссовки тип 3 (Adidas)': '100000110',\n",
        "    'Мячик тип 2 (Adidas)': '100000146',\n",
        "    'Кепка тип 1 (Adidas)': '100000149',\n",
        "    'Ремень тип 2 (Nike)': '100000194',\n",
        "    'Футболка тип 1 (Adidas)': '100000224',\n",
        "    'Шапка тип 5 (Puma)': '100000280',\n",
        "}\n",
        "\n",
        "# Товары находятся на складе и сохранены в виде словаря списков словарей,\n",
        "# которые отражают количество товаров в магазине по каждому коду.\n",
        "\n",
        "store = {\n",
        "    '100000110': [{'quantity': 31, 'price': 1637}],\n",
        "    '100000146': [ {'quantity': 4, 'price': 45}, {'quantity': 10, 'price': 48}],\n",
        "    '100000149': [ {'quantity': 28, 'price': 279}, {'quantity': 32, 'price': 291}],\n",
        "    '100000194': [{'quantity': 8, 'price': 220}, {'quantity': 1, 'price': 170}],\n",
        "    '100000224': [{'quantity': 61, 'price': 438}, {'quantity': 23, 'price': 302},  {'quantity': 50, 'price': 412}],\n",
        "    '100000280': [{'quantity': 26, 'price': 175}, ]\n",
        "}\n",
        "\n",
        "total_value = {}\n",
        "for code, items in store.items():\n",
        "    total_value[code] = sum(item['quantity'] * item['price'] for item in items)\n",
        "\n",
        "# Выводим суммарную стоимость каждого товара в магазине\n",
        "for title, code in titles.items():\n",
        "    if code in store:\n",
        "        total_quantity = sum(item['quantity'] for item in store[code])\n",
        "        total_price = total_value[code]\n",
        "        print(f\"{title} - {total_quantity} шт, стоимость {total_price} руб\")"
      ],
      "metadata": {
        "colab": {
          "base_uri": "https://localhost:8080/"
        },
        "id": "pKIZnyKFUiwk",
        "outputId": "4118b9b3-9878-48d6-84a5-9cb9c4f8721d"
      },
      "execution_count": 28,
      "outputs": [
        {
          "output_type": "stream",
          "name": "stdout",
          "text": [
            "Кроссовки тип 3 (Adidas) - 31 шт, стоимость 50747 руб\n",
            "Мячик тип 2 (Adidas) - 14 шт, стоимость 660 руб\n",
            "Кепка тип 1 (Adidas) - 60 шт, стоимость 17124 руб\n",
            "Ремень тип 2 (Nike) - 9 шт, стоимость 1930 руб\n",
            "Футболка тип 1 (Adidas) - 134 шт, стоимость 54264 руб\n",
            "Шапка тип 5 (Puma) - 26 шт, стоимость 4550 руб\n"
          ]
        }
      ]
    }
  ]
}